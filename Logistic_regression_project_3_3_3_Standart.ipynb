{
  "nbformat": 4,
  "nbformat_minor": 0,
  "metadata": {
    "colab": {
      "provenance": []
    },
    "kernelspec": {
      "name": "python3",
      "display_name": "Python 3"
    },
    "language_info": {
      "name": "python"
    }
  },
  "cells": [
    {
      "cell_type": "markdown",
      "source": [
        "# Применение логистической регрессии для решения задачи классификации"
      ],
      "metadata": {
        "id": "S2Zv-8wrSmbU"
      }
    },
    {
      "cell_type": "markdown",
      "source": [
        "# Описание набора данных"
      ],
      "metadata": {
        "id": "Fsaq3T7JS9Ox"
      }
    },
    {
      "cell_type": "markdown",
      "source": [
        "Данный набор содержит информацию о пассажирах корабля «Титаник», затонувшего в ночь на 15-е апреля 1912 года. Некоторое количество пассажиров спаслось, чему способствовало множество различных факторов, включая их пол, возраст, на какой палубе находилась их кабина, социальный статус, и т.д.\n",
        "\n",
        "Набор данных состоит из различных признаков, описывающих информацию о пассажирах. Каждая строка таблицы — отдельный пассажир, вся информация о нем содержится в его строке.\n",
        "\n",
        "Описание датасета:\n",
        "- **Survived** (целевой признак): выжил ли пассажир (0 = Нет, 1 = Да);\n",
        "- **Pclass**: класс каюты (1 = 1st, 2 = 2nd, 3 = 3rd);\n",
        "- **Sex**: пол (female или male)\n",
        "- **Age**: возраст в годах\n",
        "- **SibSp**: количество братьев, сестёр (в том числе сводных) и супругов на борту\n",
        "- **Parch**: количество детей и родителей на борту\n",
        "- **Ticket**: номер билета\n",
        "- **Fare**: стоимость проезда пассажира\n",
        "- **Cabin**: номер каюты\n",
        "- **Embarked**: порт посадки пассажира (C = Cherbourg, Q = Queenstown, S = Southampton).\n",
        "\n",
        "Необходимо решить задачу классификации и научиться предсказывать целовой признак **Survived** — выживет ли пассажир — по соответсвующим ему нецелевым признакам.\n"
      ],
      "metadata": {
        "id": "ekwIM8kmTAx5"
      }
    },
    {
      "cell_type": "markdown",
      "source": [
        "# Подготовка и первичный анализ данных"
      ],
      "metadata": {
        "id": "SjI-Ub1GYbKX"
      }
    },
    {
      "cell_type": "code",
      "source": [
        "import numpy as np\n",
        "import pandas as pd\n",
        "import matplotlib.pyplot as plt\n",
        "import seaborn as sns\n",
        "\n",
        "df = pd.read_csv('https://dc-edu.itmo.ru/assets/courseware/v1/8baa546c1c38f02f9ef2c11333112e89/asset-v1:ITMO+DA+2023+type@asset+block/titanic_train.csv')\n",
        "df"
      ],
      "metadata": {
        "colab": {
          "base_uri": "https://localhost:8080/",
          "height": 423
        },
        "id": "a_MzT3cKTuR9",
        "outputId": "335f5ffb-981b-404a-cd78-334a4088d4dc"
      },
      "execution_count": null,
      "outputs": [
        {
          "output_type": "execute_result",
          "data": {
            "text/plain": [
              "     pclass  survived                                             name  \\\n",
              "0         3         1                               Smyth, Miss. Julia   \n",
              "1         3         1                         Glynn, Miss. Mary Agatha   \n",
              "2         3         1  Whabee, Mrs. George Joseph (Shawneene Abi-Saab)   \n",
              "3         3         0                                  Vovk, Mr. Janko   \n",
              "4         3         0                        de Pelsmaeker, Mr. Alfons   \n",
              "..      ...       ...                                              ...   \n",
              "976       3         1                      Howard, Miss. May Elizabeth   \n",
              "977       3         1                       Dorking, Mr. Edward Arthur   \n",
              "978       2         0                     Gillespie, Mr. William Henry   \n",
              "979       3         0                           Barton, Mr. David John   \n",
              "980       1         0                     Allison, Miss. Helen Loraine   \n",
              "\n",
              "        sex   age  sibsp  parch       ticket      fare    cabin embarked  \\\n",
              "0    female   NaN      0      0       335432    7.7333      NaN        Q   \n",
              "1    female   NaN      0      0       335677    7.7500      NaN        Q   \n",
              "2    female  38.0      0      0         2688    7.2292      NaN        C   \n",
              "3      male  22.0      0      0       349252    7.8958      NaN        S   \n",
              "4      male  16.0      0      0       345778    9.5000      NaN        S   \n",
              "..      ...   ...    ...    ...          ...       ...      ...      ...   \n",
              "976  female   NaN      0      0  A. 2. 39186    8.0500      NaN        S   \n",
              "977    male  19.0      0      0   A/5. 10482    8.0500      NaN        S   \n",
              "978    male  34.0      0      0        12233   13.0000      NaN        S   \n",
              "979    male  22.0      0      0       324669    8.0500      NaN        S   \n",
              "980  female   2.0      1      2       113781  151.5500  C22 C26        S   \n",
              "\n",
              "                            home.dest  \n",
              "0                                 NaN  \n",
              "1    Co Clare, Ireland Washington, DC  \n",
              "2                                 NaN  \n",
              "3                                 NaN  \n",
              "4                                 NaN  \n",
              "..                                ...  \n",
              "976                               NaN  \n",
              "977               England Oglesby, IL  \n",
              "978                     Vancouver, BC  \n",
              "979              England New York, NY  \n",
              "980   Montreal, PQ / Chesterville, ON  \n",
              "\n",
              "[981 rows x 12 columns]"
            ],
            "text/html": [
              "\n",
              "  <div id=\"df-b040be28-caf8-4f1c-83ee-de70fbcc54ce\" class=\"colab-df-container\">\n",
              "    <div>\n",
              "<style scoped>\n",
              "    .dataframe tbody tr th:only-of-type {\n",
              "        vertical-align: middle;\n",
              "    }\n",
              "\n",
              "    .dataframe tbody tr th {\n",
              "        vertical-align: top;\n",
              "    }\n",
              "\n",
              "    .dataframe thead th {\n",
              "        text-align: right;\n",
              "    }\n",
              "</style>\n",
              "<table border=\"1\" class=\"dataframe\">\n",
              "  <thead>\n",
              "    <tr style=\"text-align: right;\">\n",
              "      <th></th>\n",
              "      <th>pclass</th>\n",
              "      <th>survived</th>\n",
              "      <th>name</th>\n",
              "      <th>sex</th>\n",
              "      <th>age</th>\n",
              "      <th>sibsp</th>\n",
              "      <th>parch</th>\n",
              "      <th>ticket</th>\n",
              "      <th>fare</th>\n",
              "      <th>cabin</th>\n",
              "      <th>embarked</th>\n",
              "      <th>home.dest</th>\n",
              "    </tr>\n",
              "  </thead>\n",
              "  <tbody>\n",
              "    <tr>\n",
              "      <th>0</th>\n",
              "      <td>3</td>\n",
              "      <td>1</td>\n",
              "      <td>Smyth, Miss. Julia</td>\n",
              "      <td>female</td>\n",
              "      <td>NaN</td>\n",
              "      <td>0</td>\n",
              "      <td>0</td>\n",
              "      <td>335432</td>\n",
              "      <td>7.7333</td>\n",
              "      <td>NaN</td>\n",
              "      <td>Q</td>\n",
              "      <td>NaN</td>\n",
              "    </tr>\n",
              "    <tr>\n",
              "      <th>1</th>\n",
              "      <td>3</td>\n",
              "      <td>1</td>\n",
              "      <td>Glynn, Miss. Mary Agatha</td>\n",
              "      <td>female</td>\n",
              "      <td>NaN</td>\n",
              "      <td>0</td>\n",
              "      <td>0</td>\n",
              "      <td>335677</td>\n",
              "      <td>7.7500</td>\n",
              "      <td>NaN</td>\n",
              "      <td>Q</td>\n",
              "      <td>Co Clare, Ireland Washington, DC</td>\n",
              "    </tr>\n",
              "    <tr>\n",
              "      <th>2</th>\n",
              "      <td>3</td>\n",
              "      <td>1</td>\n",
              "      <td>Whabee, Mrs. George Joseph (Shawneene Abi-Saab)</td>\n",
              "      <td>female</td>\n",
              "      <td>38.0</td>\n",
              "      <td>0</td>\n",
              "      <td>0</td>\n",
              "      <td>2688</td>\n",
              "      <td>7.2292</td>\n",
              "      <td>NaN</td>\n",
              "      <td>C</td>\n",
              "      <td>NaN</td>\n",
              "    </tr>\n",
              "    <tr>\n",
              "      <th>3</th>\n",
              "      <td>3</td>\n",
              "      <td>0</td>\n",
              "      <td>Vovk, Mr. Janko</td>\n",
              "      <td>male</td>\n",
              "      <td>22.0</td>\n",
              "      <td>0</td>\n",
              "      <td>0</td>\n",
              "      <td>349252</td>\n",
              "      <td>7.8958</td>\n",
              "      <td>NaN</td>\n",
              "      <td>S</td>\n",
              "      <td>NaN</td>\n",
              "    </tr>\n",
              "    <tr>\n",
              "      <th>4</th>\n",
              "      <td>3</td>\n",
              "      <td>0</td>\n",
              "      <td>de Pelsmaeker, Mr. Alfons</td>\n",
              "      <td>male</td>\n",
              "      <td>16.0</td>\n",
              "      <td>0</td>\n",
              "      <td>0</td>\n",
              "      <td>345778</td>\n",
              "      <td>9.5000</td>\n",
              "      <td>NaN</td>\n",
              "      <td>S</td>\n",
              "      <td>NaN</td>\n",
              "    </tr>\n",
              "    <tr>\n",
              "      <th>...</th>\n",
              "      <td>...</td>\n",
              "      <td>...</td>\n",
              "      <td>...</td>\n",
              "      <td>...</td>\n",
              "      <td>...</td>\n",
              "      <td>...</td>\n",
              "      <td>...</td>\n",
              "      <td>...</td>\n",
              "      <td>...</td>\n",
              "      <td>...</td>\n",
              "      <td>...</td>\n",
              "      <td>...</td>\n",
              "    </tr>\n",
              "    <tr>\n",
              "      <th>976</th>\n",
              "      <td>3</td>\n",
              "      <td>1</td>\n",
              "      <td>Howard, Miss. May Elizabeth</td>\n",
              "      <td>female</td>\n",
              "      <td>NaN</td>\n",
              "      <td>0</td>\n",
              "      <td>0</td>\n",
              "      <td>A. 2. 39186</td>\n",
              "      <td>8.0500</td>\n",
              "      <td>NaN</td>\n",
              "      <td>S</td>\n",
              "      <td>NaN</td>\n",
              "    </tr>\n",
              "    <tr>\n",
              "      <th>977</th>\n",
              "      <td>3</td>\n",
              "      <td>1</td>\n",
              "      <td>Dorking, Mr. Edward Arthur</td>\n",
              "      <td>male</td>\n",
              "      <td>19.0</td>\n",
              "      <td>0</td>\n",
              "      <td>0</td>\n",
              "      <td>A/5. 10482</td>\n",
              "      <td>8.0500</td>\n",
              "      <td>NaN</td>\n",
              "      <td>S</td>\n",
              "      <td>England Oglesby, IL</td>\n",
              "    </tr>\n",
              "    <tr>\n",
              "      <th>978</th>\n",
              "      <td>2</td>\n",
              "      <td>0</td>\n",
              "      <td>Gillespie, Mr. William Henry</td>\n",
              "      <td>male</td>\n",
              "      <td>34.0</td>\n",
              "      <td>0</td>\n",
              "      <td>0</td>\n",
              "      <td>12233</td>\n",
              "      <td>13.0000</td>\n",
              "      <td>NaN</td>\n",
              "      <td>S</td>\n",
              "      <td>Vancouver, BC</td>\n",
              "    </tr>\n",
              "    <tr>\n",
              "      <th>979</th>\n",
              "      <td>3</td>\n",
              "      <td>0</td>\n",
              "      <td>Barton, Mr. David John</td>\n",
              "      <td>male</td>\n",
              "      <td>22.0</td>\n",
              "      <td>0</td>\n",
              "      <td>0</td>\n",
              "      <td>324669</td>\n",
              "      <td>8.0500</td>\n",
              "      <td>NaN</td>\n",
              "      <td>S</td>\n",
              "      <td>England New York, NY</td>\n",
              "    </tr>\n",
              "    <tr>\n",
              "      <th>980</th>\n",
              "      <td>1</td>\n",
              "      <td>0</td>\n",
              "      <td>Allison, Miss. Helen Loraine</td>\n",
              "      <td>female</td>\n",
              "      <td>2.0</td>\n",
              "      <td>1</td>\n",
              "      <td>2</td>\n",
              "      <td>113781</td>\n",
              "      <td>151.5500</td>\n",
              "      <td>C22 C26</td>\n",
              "      <td>S</td>\n",
              "      <td>Montreal, PQ / Chesterville, ON</td>\n",
              "    </tr>\n",
              "  </tbody>\n",
              "</table>\n",
              "<p>981 rows × 12 columns</p>\n",
              "</div>\n",
              "    <div class=\"colab-df-buttons\">\n",
              "\n",
              "  <div class=\"colab-df-container\">\n",
              "    <button class=\"colab-df-convert\" onclick=\"convertToInteractive('df-b040be28-caf8-4f1c-83ee-de70fbcc54ce')\"\n",
              "            title=\"Convert this dataframe to an interactive table.\"\n",
              "            style=\"display:none;\">\n",
              "\n",
              "  <svg xmlns=\"http://www.w3.org/2000/svg\" height=\"24px\" viewBox=\"0 -960 960 960\">\n",
              "    <path d=\"M120-120v-720h720v720H120Zm60-500h600v-160H180v160Zm220 220h160v-160H400v160Zm0 220h160v-160H400v160ZM180-400h160v-160H180v160Zm440 0h160v-160H620v160ZM180-180h160v-160H180v160Zm440 0h160v-160H620v160Z\"/>\n",
              "  </svg>\n",
              "    </button>\n",
              "\n",
              "  <style>\n",
              "    .colab-df-container {\n",
              "      display:flex;\n",
              "      gap: 12px;\n",
              "    }\n",
              "\n",
              "    .colab-df-convert {\n",
              "      background-color: #E8F0FE;\n",
              "      border: none;\n",
              "      border-radius: 50%;\n",
              "      cursor: pointer;\n",
              "      display: none;\n",
              "      fill: #1967D2;\n",
              "      height: 32px;\n",
              "      padding: 0 0 0 0;\n",
              "      width: 32px;\n",
              "    }\n",
              "\n",
              "    .colab-df-convert:hover {\n",
              "      background-color: #E2EBFA;\n",
              "      box-shadow: 0px 1px 2px rgba(60, 64, 67, 0.3), 0px 1px 3px 1px rgba(60, 64, 67, 0.15);\n",
              "      fill: #174EA6;\n",
              "    }\n",
              "\n",
              "    .colab-df-buttons div {\n",
              "      margin-bottom: 4px;\n",
              "    }\n",
              "\n",
              "    [theme=dark] .colab-df-convert {\n",
              "      background-color: #3B4455;\n",
              "      fill: #D2E3FC;\n",
              "    }\n",
              "\n",
              "    [theme=dark] .colab-df-convert:hover {\n",
              "      background-color: #434B5C;\n",
              "      box-shadow: 0px 1px 3px 1px rgba(0, 0, 0, 0.15);\n",
              "      filter: drop-shadow(0px 1px 2px rgba(0, 0, 0, 0.3));\n",
              "      fill: #FFFFFF;\n",
              "    }\n",
              "  </style>\n",
              "\n",
              "    <script>\n",
              "      const buttonEl =\n",
              "        document.querySelector('#df-b040be28-caf8-4f1c-83ee-de70fbcc54ce button.colab-df-convert');\n",
              "      buttonEl.style.display =\n",
              "        google.colab.kernel.accessAllowed ? 'block' : 'none';\n",
              "\n",
              "      async function convertToInteractive(key) {\n",
              "        const element = document.querySelector('#df-b040be28-caf8-4f1c-83ee-de70fbcc54ce');\n",
              "        const dataTable =\n",
              "          await google.colab.kernel.invokeFunction('convertToInteractive',\n",
              "                                                    [key], {});\n",
              "        if (!dataTable) return;\n",
              "\n",
              "        const docLinkHtml = 'Like what you see? Visit the ' +\n",
              "          '<a target=\"_blank\" href=https://colab.research.google.com/notebooks/data_table.ipynb>data table notebook</a>'\n",
              "          + ' to learn more about interactive tables.';\n",
              "        element.innerHTML = '';\n",
              "        dataTable['output_type'] = 'display_data';\n",
              "        await google.colab.output.renderOutput(dataTable, element);\n",
              "        const docLink = document.createElement('div');\n",
              "        docLink.innerHTML = docLinkHtml;\n",
              "        element.appendChild(docLink);\n",
              "      }\n",
              "    </script>\n",
              "  </div>\n",
              "\n",
              "\n",
              "<div id=\"df-5836e9d7-f99a-4bcb-8f34-a96c72b00e60\">\n",
              "  <button class=\"colab-df-quickchart\" onclick=\"quickchart('df-5836e9d7-f99a-4bcb-8f34-a96c72b00e60')\"\n",
              "            title=\"Suggest charts\"\n",
              "            style=\"display:none;\">\n",
              "\n",
              "<svg xmlns=\"http://www.w3.org/2000/svg\" height=\"24px\"viewBox=\"0 0 24 24\"\n",
              "     width=\"24px\">\n",
              "    <g>\n",
              "        <path d=\"M19 3H5c-1.1 0-2 .9-2 2v14c0 1.1.9 2 2 2h14c1.1 0 2-.9 2-2V5c0-1.1-.9-2-2-2zM9 17H7v-7h2v7zm4 0h-2V7h2v10zm4 0h-2v-4h2v4z\"/>\n",
              "    </g>\n",
              "</svg>\n",
              "  </button>\n",
              "\n",
              "<style>\n",
              "  .colab-df-quickchart {\n",
              "      --bg-color: #E8F0FE;\n",
              "      --fill-color: #1967D2;\n",
              "      --hover-bg-color: #E2EBFA;\n",
              "      --hover-fill-color: #174EA6;\n",
              "      --disabled-fill-color: #AAA;\n",
              "      --disabled-bg-color: #DDD;\n",
              "  }\n",
              "\n",
              "  [theme=dark] .colab-df-quickchart {\n",
              "      --bg-color: #3B4455;\n",
              "      --fill-color: #D2E3FC;\n",
              "      --hover-bg-color: #434B5C;\n",
              "      --hover-fill-color: #FFFFFF;\n",
              "      --disabled-bg-color: #3B4455;\n",
              "      --disabled-fill-color: #666;\n",
              "  }\n",
              "\n",
              "  .colab-df-quickchart {\n",
              "    background-color: var(--bg-color);\n",
              "    border: none;\n",
              "    border-radius: 50%;\n",
              "    cursor: pointer;\n",
              "    display: none;\n",
              "    fill: var(--fill-color);\n",
              "    height: 32px;\n",
              "    padding: 0;\n",
              "    width: 32px;\n",
              "  }\n",
              "\n",
              "  .colab-df-quickchart:hover {\n",
              "    background-color: var(--hover-bg-color);\n",
              "    box-shadow: 0 1px 2px rgba(60, 64, 67, 0.3), 0 1px 3px 1px rgba(60, 64, 67, 0.15);\n",
              "    fill: var(--button-hover-fill-color);\n",
              "  }\n",
              "\n",
              "  .colab-df-quickchart-complete:disabled,\n",
              "  .colab-df-quickchart-complete:disabled:hover {\n",
              "    background-color: var(--disabled-bg-color);\n",
              "    fill: var(--disabled-fill-color);\n",
              "    box-shadow: none;\n",
              "  }\n",
              "\n",
              "  .colab-df-spinner {\n",
              "    border: 2px solid var(--fill-color);\n",
              "    border-color: transparent;\n",
              "    border-bottom-color: var(--fill-color);\n",
              "    animation:\n",
              "      spin 1s steps(1) infinite;\n",
              "  }\n",
              "\n",
              "  @keyframes spin {\n",
              "    0% {\n",
              "      border-color: transparent;\n",
              "      border-bottom-color: var(--fill-color);\n",
              "      border-left-color: var(--fill-color);\n",
              "    }\n",
              "    20% {\n",
              "      border-color: transparent;\n",
              "      border-left-color: var(--fill-color);\n",
              "      border-top-color: var(--fill-color);\n",
              "    }\n",
              "    30% {\n",
              "      border-color: transparent;\n",
              "      border-left-color: var(--fill-color);\n",
              "      border-top-color: var(--fill-color);\n",
              "      border-right-color: var(--fill-color);\n",
              "    }\n",
              "    40% {\n",
              "      border-color: transparent;\n",
              "      border-right-color: var(--fill-color);\n",
              "      border-top-color: var(--fill-color);\n",
              "    }\n",
              "    60% {\n",
              "      border-color: transparent;\n",
              "      border-right-color: var(--fill-color);\n",
              "    }\n",
              "    80% {\n",
              "      border-color: transparent;\n",
              "      border-right-color: var(--fill-color);\n",
              "      border-bottom-color: var(--fill-color);\n",
              "    }\n",
              "    90% {\n",
              "      border-color: transparent;\n",
              "      border-bottom-color: var(--fill-color);\n",
              "    }\n",
              "  }\n",
              "</style>\n",
              "\n",
              "  <script>\n",
              "    async function quickchart(key) {\n",
              "      const quickchartButtonEl =\n",
              "        document.querySelector('#' + key + ' button');\n",
              "      quickchartButtonEl.disabled = true;  // To prevent multiple clicks.\n",
              "      quickchartButtonEl.classList.add('colab-df-spinner');\n",
              "      try {\n",
              "        const charts = await google.colab.kernel.invokeFunction(\n",
              "            'suggestCharts', [key], {});\n",
              "      } catch (error) {\n",
              "        console.error('Error during call to suggestCharts:', error);\n",
              "      }\n",
              "      quickchartButtonEl.classList.remove('colab-df-spinner');\n",
              "      quickchartButtonEl.classList.add('colab-df-quickchart-complete');\n",
              "    }\n",
              "    (() => {\n",
              "      let quickchartButtonEl =\n",
              "        document.querySelector('#df-5836e9d7-f99a-4bcb-8f34-a96c72b00e60 button');\n",
              "      quickchartButtonEl.style.display =\n",
              "        google.colab.kernel.accessAllowed ? 'block' : 'none';\n",
              "    })();\n",
              "  </script>\n",
              "</div>\n",
              "    </div>\n",
              "  </div>\n"
            ],
            "application/vnd.google.colaboratory.intrinsic+json": {
              "type": "dataframe",
              "variable_name": "df",
              "summary": "{\n  \"name\": \"df\",\n  \"rows\": 981,\n  \"fields\": [\n    {\n      \"column\": \"pclass\",\n      \"properties\": {\n        \"dtype\": \"number\",\n        \"std\": 0,\n        \"min\": 1,\n        \"max\": 3,\n        \"num_unique_values\": 3,\n        \"samples\": [\n          3,\n          1,\n          2\n        ],\n        \"semantic_type\": \"\",\n        \"description\": \"\"\n      }\n    },\n    {\n      \"column\": \"survived\",\n      \"properties\": {\n        \"dtype\": \"number\",\n        \"std\": 0,\n        \"min\": 0,\n        \"max\": 1,\n        \"num_unique_values\": 2,\n        \"samples\": [\n          0,\n          1\n        ],\n        \"semantic_type\": \"\",\n        \"description\": \"\"\n      }\n    },\n    {\n      \"column\": \"name\",\n      \"properties\": {\n        \"dtype\": \"string\",\n        \"num_unique_values\": 981,\n        \"samples\": [\n          \"Nakid, Mr. Sahid\",\n          \"Morrow, Mr. Thomas Rowan\"\n        ],\n        \"semantic_type\": \"\",\n        \"description\": \"\"\n      }\n    },\n    {\n      \"column\": \"sex\",\n      \"properties\": {\n        \"dtype\": \"category\",\n        \"num_unique_values\": 2,\n        \"samples\": [\n          \"male\",\n          \"female\"\n        ],\n        \"semantic_type\": \"\",\n        \"description\": \"\"\n      }\n    },\n    {\n      \"column\": \"age\",\n      \"properties\": {\n        \"dtype\": \"number\",\n        \"std\": 14.482024573057402,\n        \"min\": 0.3333,\n        \"max\": 80.0,\n        \"num_unique_values\": 92,\n        \"samples\": [\n          11.0,\n          33.0\n        ],\n        \"semantic_type\": \"\",\n        \"description\": \"\"\n      }\n    },\n    {\n      \"column\": \"sibsp\",\n      \"properties\": {\n        \"dtype\": \"number\",\n        \"std\": 0,\n        \"min\": 0,\n        \"max\": 8,\n        \"num_unique_values\": 7,\n        \"samples\": [\n          0,\n          4\n        ],\n        \"semantic_type\": \"\",\n        \"description\": \"\"\n      }\n    },\n    {\n      \"column\": \"parch\",\n      \"properties\": {\n        \"dtype\": \"number\",\n        \"std\": 0,\n        \"min\": 0,\n        \"max\": 9,\n        \"num_unique_values\": 7,\n        \"samples\": [\n          0,\n          2\n        ],\n        \"semantic_type\": \"\",\n        \"description\": \"\"\n      }\n    },\n    {\n      \"column\": \"ticket\",\n      \"properties\": {\n        \"dtype\": \"string\",\n        \"num_unique_values\": 746,\n        \"samples\": [\n          \"112059\",\n          \"315037\"\n        ],\n        \"semantic_type\": \"\",\n        \"description\": \"\"\n      }\n    },\n    {\n      \"column\": \"fare\",\n      \"properties\": {\n        \"dtype\": \"number\",\n        \"std\": 49.30625839020259,\n        \"min\": 0.0,\n        \"max\": 512.3292,\n        \"num_unique_values\": 254,\n        \"samples\": [\n          9.325,\n          26.0\n        ],\n        \"semantic_type\": \"\",\n        \"description\": \"\"\n      }\n    },\n    {\n      \"column\": \"cabin\",\n      \"properties\": {\n        \"dtype\": \"category\",\n        \"num_unique_values\": 148,\n        \"samples\": [\n          \"B50\",\n          \"C85\"\n        ],\n        \"semantic_type\": \"\",\n        \"description\": \"\"\n      }\n    },\n    {\n      \"column\": \"embarked\",\n      \"properties\": {\n        \"dtype\": \"category\",\n        \"num_unique_values\": 3,\n        \"samples\": [\n          \"Q\",\n          \"C\"\n        ],\n        \"semantic_type\": \"\",\n        \"description\": \"\"\n      }\n    },\n    {\n      \"column\": \"home.dest\",\n      \"properties\": {\n        \"dtype\": \"category\",\n        \"num_unique_values\": 318,\n        \"samples\": [\n          \"Tampico, MT\",\n          \"London / Winnipeg, MB\"\n        ],\n        \"semantic_type\": \"\",\n        \"description\": \"\"\n      }\n    }\n  ]\n}"
            }
          },
          "metadata": {},
          "execution_count": 94
        }
      ]
    },
    {
      "cell_type": "markdown",
      "source": [
        "Установите количество пропущенных значений поля <code>age</code>:"
      ],
      "metadata": {
        "id": "KY4ZYwUuUNwx"
      }
    },
    {
      "cell_type": "code",
      "source": [
        "print(df.isnull().sum())\n",
        "print('\\nЧисло пропущенных значений поля age: ', df.isnull().sum()['age'])"
      ],
      "metadata": {
        "colab": {
          "base_uri": "https://localhost:8080/"
        },
        "id": "Ii5ITpGJUShn",
        "outputId": "15a306da-f6e2-44bb-f46e-7dfdb37b054c"
      },
      "execution_count": null,
      "outputs": [
        {
          "output_type": "stream",
          "name": "stdout",
          "text": [
            "pclass         0\n",
            "survived       0\n",
            "name           0\n",
            "sex            0\n",
            "age          199\n",
            "sibsp          0\n",
            "parch          0\n",
            "ticket         0\n",
            "fare           0\n",
            "cabin        769\n",
            "embarked       0\n",
            "home.dest    414\n",
            "dtype: int64\n",
            "\n",
            "Число пропущенных значений поля age:  199\n"
          ]
        }
      ]
    },
    {
      "cell_type": "markdown",
      "source": [
        "Определите долю выживших"
      ],
      "metadata": {
        "id": "gOqnpfJkU6Ll"
      }
    },
    {
      "cell_type": "code",
      "source": [
        "df['survived'].mean()"
      ],
      "metadata": {
        "colab": {
          "base_uri": "https://localhost:8080/"
        },
        "id": "dHdTN-odVAIb",
        "outputId": "d0e80f1f-71f7-4c29-a14e-1f92af1522e6"
      },
      "execution_count": null,
      "outputs": [
        {
          "output_type": "execute_result",
          "data": {
            "text/plain": [
              "0.382262996941896"
            ]
          },
          "metadata": {},
          "execution_count": 96
        }
      ]
    },
    {
      "cell_type": "markdown",
      "source": [
        "Определите долю пропущенных значений в рамках каждого признака и избавьтесь от тех признаков, где доля пропусков больше трети. Также удалите колонку <code>ticket</code>, вряд ли эта информация будет полезной."
      ],
      "metadata": {
        "id": "MJS0wozuVoWt"
      }
    },
    {
      "cell_type": "code",
      "source": [
        "print(df.isnull().sum()/len(df))\n",
        "columns_to_drop = ['cabin', 'home.dest', 'ticket']\n",
        "df_droped = df.drop(columns_to_drop, axis=1)\n",
        "df_droped.head(2)"
      ],
      "metadata": {
        "colab": {
          "base_uri": "https://localhost:8080/",
          "height": 337
        },
        "id": "43ptqUREVz-t",
        "outputId": "61882a6f-5ffd-4d8d-ef39-773fbcc1203a"
      },
      "execution_count": null,
      "outputs": [
        {
          "output_type": "stream",
          "name": "stdout",
          "text": [
            "pclass       0.000000\n",
            "survived     0.000000\n",
            "name         0.000000\n",
            "sex          0.000000\n",
            "age          0.202854\n",
            "sibsp        0.000000\n",
            "parch        0.000000\n",
            "ticket       0.000000\n",
            "fare         0.000000\n",
            "cabin        0.783894\n",
            "embarked     0.000000\n",
            "home.dest    0.422018\n",
            "dtype: float64\n"
          ]
        },
        {
          "output_type": "execute_result",
          "data": {
            "text/plain": [
              "   pclass  survived                      name     sex  age  sibsp  parch  \\\n",
              "0       3         1        Smyth, Miss. Julia  female  NaN      0      0   \n",
              "1       3         1  Glynn, Miss. Mary Agatha  female  NaN      0      0   \n",
              "\n",
              "     fare embarked  \n",
              "0  7.7333        Q  \n",
              "1  7.7500        Q  "
            ],
            "text/html": [
              "\n",
              "  <div id=\"df-b25ed016-4a29-4292-ba13-eb6f707687ea\" class=\"colab-df-container\">\n",
              "    <div>\n",
              "<style scoped>\n",
              "    .dataframe tbody tr th:only-of-type {\n",
              "        vertical-align: middle;\n",
              "    }\n",
              "\n",
              "    .dataframe tbody tr th {\n",
              "        vertical-align: top;\n",
              "    }\n",
              "\n",
              "    .dataframe thead th {\n",
              "        text-align: right;\n",
              "    }\n",
              "</style>\n",
              "<table border=\"1\" class=\"dataframe\">\n",
              "  <thead>\n",
              "    <tr style=\"text-align: right;\">\n",
              "      <th></th>\n",
              "      <th>pclass</th>\n",
              "      <th>survived</th>\n",
              "      <th>name</th>\n",
              "      <th>sex</th>\n",
              "      <th>age</th>\n",
              "      <th>sibsp</th>\n",
              "      <th>parch</th>\n",
              "      <th>fare</th>\n",
              "      <th>embarked</th>\n",
              "    </tr>\n",
              "  </thead>\n",
              "  <tbody>\n",
              "    <tr>\n",
              "      <th>0</th>\n",
              "      <td>3</td>\n",
              "      <td>1</td>\n",
              "      <td>Smyth, Miss. Julia</td>\n",
              "      <td>female</td>\n",
              "      <td>NaN</td>\n",
              "      <td>0</td>\n",
              "      <td>0</td>\n",
              "      <td>7.7333</td>\n",
              "      <td>Q</td>\n",
              "    </tr>\n",
              "    <tr>\n",
              "      <th>1</th>\n",
              "      <td>3</td>\n",
              "      <td>1</td>\n",
              "      <td>Glynn, Miss. Mary Agatha</td>\n",
              "      <td>female</td>\n",
              "      <td>NaN</td>\n",
              "      <td>0</td>\n",
              "      <td>0</td>\n",
              "      <td>7.7500</td>\n",
              "      <td>Q</td>\n",
              "    </tr>\n",
              "  </tbody>\n",
              "</table>\n",
              "</div>\n",
              "    <div class=\"colab-df-buttons\">\n",
              "\n",
              "  <div class=\"colab-df-container\">\n",
              "    <button class=\"colab-df-convert\" onclick=\"convertToInteractive('df-b25ed016-4a29-4292-ba13-eb6f707687ea')\"\n",
              "            title=\"Convert this dataframe to an interactive table.\"\n",
              "            style=\"display:none;\">\n",
              "\n",
              "  <svg xmlns=\"http://www.w3.org/2000/svg\" height=\"24px\" viewBox=\"0 -960 960 960\">\n",
              "    <path d=\"M120-120v-720h720v720H120Zm60-500h600v-160H180v160Zm220 220h160v-160H400v160Zm0 220h160v-160H400v160ZM180-400h160v-160H180v160Zm440 0h160v-160H620v160ZM180-180h160v-160H180v160Zm440 0h160v-160H620v160Z\"/>\n",
              "  </svg>\n",
              "    </button>\n",
              "\n",
              "  <style>\n",
              "    .colab-df-container {\n",
              "      display:flex;\n",
              "      gap: 12px;\n",
              "    }\n",
              "\n",
              "    .colab-df-convert {\n",
              "      background-color: #E8F0FE;\n",
              "      border: none;\n",
              "      border-radius: 50%;\n",
              "      cursor: pointer;\n",
              "      display: none;\n",
              "      fill: #1967D2;\n",
              "      height: 32px;\n",
              "      padding: 0 0 0 0;\n",
              "      width: 32px;\n",
              "    }\n",
              "\n",
              "    .colab-df-convert:hover {\n",
              "      background-color: #E2EBFA;\n",
              "      box-shadow: 0px 1px 2px rgba(60, 64, 67, 0.3), 0px 1px 3px 1px rgba(60, 64, 67, 0.15);\n",
              "      fill: #174EA6;\n",
              "    }\n",
              "\n",
              "    .colab-df-buttons div {\n",
              "      margin-bottom: 4px;\n",
              "    }\n",
              "\n",
              "    [theme=dark] .colab-df-convert {\n",
              "      background-color: #3B4455;\n",
              "      fill: #D2E3FC;\n",
              "    }\n",
              "\n",
              "    [theme=dark] .colab-df-convert:hover {\n",
              "      background-color: #434B5C;\n",
              "      box-shadow: 0px 1px 3px 1px rgba(0, 0, 0, 0.15);\n",
              "      filter: drop-shadow(0px 1px 2px rgba(0, 0, 0, 0.3));\n",
              "      fill: #FFFFFF;\n",
              "    }\n",
              "  </style>\n",
              "\n",
              "    <script>\n",
              "      const buttonEl =\n",
              "        document.querySelector('#df-b25ed016-4a29-4292-ba13-eb6f707687ea button.colab-df-convert');\n",
              "      buttonEl.style.display =\n",
              "        google.colab.kernel.accessAllowed ? 'block' : 'none';\n",
              "\n",
              "      async function convertToInteractive(key) {\n",
              "        const element = document.querySelector('#df-b25ed016-4a29-4292-ba13-eb6f707687ea');\n",
              "        const dataTable =\n",
              "          await google.colab.kernel.invokeFunction('convertToInteractive',\n",
              "                                                    [key], {});\n",
              "        if (!dataTable) return;\n",
              "\n",
              "        const docLinkHtml = 'Like what you see? Visit the ' +\n",
              "          '<a target=\"_blank\" href=https://colab.research.google.com/notebooks/data_table.ipynb>data table notebook</a>'\n",
              "          + ' to learn more about interactive tables.';\n",
              "        element.innerHTML = '';\n",
              "        dataTable['output_type'] = 'display_data';\n",
              "        await google.colab.output.renderOutput(dataTable, element);\n",
              "        const docLink = document.createElement('div');\n",
              "        docLink.innerHTML = docLinkHtml;\n",
              "        element.appendChild(docLink);\n",
              "      }\n",
              "    </script>\n",
              "  </div>\n",
              "\n",
              "\n",
              "<div id=\"df-5368c5d4-14a4-4b39-8fc5-d6eda079be4d\">\n",
              "  <button class=\"colab-df-quickchart\" onclick=\"quickchart('df-5368c5d4-14a4-4b39-8fc5-d6eda079be4d')\"\n",
              "            title=\"Suggest charts\"\n",
              "            style=\"display:none;\">\n",
              "\n",
              "<svg xmlns=\"http://www.w3.org/2000/svg\" height=\"24px\"viewBox=\"0 0 24 24\"\n",
              "     width=\"24px\">\n",
              "    <g>\n",
              "        <path d=\"M19 3H5c-1.1 0-2 .9-2 2v14c0 1.1.9 2 2 2h14c1.1 0 2-.9 2-2V5c0-1.1-.9-2-2-2zM9 17H7v-7h2v7zm4 0h-2V7h2v10zm4 0h-2v-4h2v4z\"/>\n",
              "    </g>\n",
              "</svg>\n",
              "  </button>\n",
              "\n",
              "<style>\n",
              "  .colab-df-quickchart {\n",
              "      --bg-color: #E8F0FE;\n",
              "      --fill-color: #1967D2;\n",
              "      --hover-bg-color: #E2EBFA;\n",
              "      --hover-fill-color: #174EA6;\n",
              "      --disabled-fill-color: #AAA;\n",
              "      --disabled-bg-color: #DDD;\n",
              "  }\n",
              "\n",
              "  [theme=dark] .colab-df-quickchart {\n",
              "      --bg-color: #3B4455;\n",
              "      --fill-color: #D2E3FC;\n",
              "      --hover-bg-color: #434B5C;\n",
              "      --hover-fill-color: #FFFFFF;\n",
              "      --disabled-bg-color: #3B4455;\n",
              "      --disabled-fill-color: #666;\n",
              "  }\n",
              "\n",
              "  .colab-df-quickchart {\n",
              "    background-color: var(--bg-color);\n",
              "    border: none;\n",
              "    border-radius: 50%;\n",
              "    cursor: pointer;\n",
              "    display: none;\n",
              "    fill: var(--fill-color);\n",
              "    height: 32px;\n",
              "    padding: 0;\n",
              "    width: 32px;\n",
              "  }\n",
              "\n",
              "  .colab-df-quickchart:hover {\n",
              "    background-color: var(--hover-bg-color);\n",
              "    box-shadow: 0 1px 2px rgba(60, 64, 67, 0.3), 0 1px 3px 1px rgba(60, 64, 67, 0.15);\n",
              "    fill: var(--button-hover-fill-color);\n",
              "  }\n",
              "\n",
              "  .colab-df-quickchart-complete:disabled,\n",
              "  .colab-df-quickchart-complete:disabled:hover {\n",
              "    background-color: var(--disabled-bg-color);\n",
              "    fill: var(--disabled-fill-color);\n",
              "    box-shadow: none;\n",
              "  }\n",
              "\n",
              "  .colab-df-spinner {\n",
              "    border: 2px solid var(--fill-color);\n",
              "    border-color: transparent;\n",
              "    border-bottom-color: var(--fill-color);\n",
              "    animation:\n",
              "      spin 1s steps(1) infinite;\n",
              "  }\n",
              "\n",
              "  @keyframes spin {\n",
              "    0% {\n",
              "      border-color: transparent;\n",
              "      border-bottom-color: var(--fill-color);\n",
              "      border-left-color: var(--fill-color);\n",
              "    }\n",
              "    20% {\n",
              "      border-color: transparent;\n",
              "      border-left-color: var(--fill-color);\n",
              "      border-top-color: var(--fill-color);\n",
              "    }\n",
              "    30% {\n",
              "      border-color: transparent;\n",
              "      border-left-color: var(--fill-color);\n",
              "      border-top-color: var(--fill-color);\n",
              "      border-right-color: var(--fill-color);\n",
              "    }\n",
              "    40% {\n",
              "      border-color: transparent;\n",
              "      border-right-color: var(--fill-color);\n",
              "      border-top-color: var(--fill-color);\n",
              "    }\n",
              "    60% {\n",
              "      border-color: transparent;\n",
              "      border-right-color: var(--fill-color);\n",
              "    }\n",
              "    80% {\n",
              "      border-color: transparent;\n",
              "      border-right-color: var(--fill-color);\n",
              "      border-bottom-color: var(--fill-color);\n",
              "    }\n",
              "    90% {\n",
              "      border-color: transparent;\n",
              "      border-bottom-color: var(--fill-color);\n",
              "    }\n",
              "  }\n",
              "</style>\n",
              "\n",
              "  <script>\n",
              "    async function quickchart(key) {\n",
              "      const quickchartButtonEl =\n",
              "        document.querySelector('#' + key + ' button');\n",
              "      quickchartButtonEl.disabled = true;  // To prevent multiple clicks.\n",
              "      quickchartButtonEl.classList.add('colab-df-spinner');\n",
              "      try {\n",
              "        const charts = await google.colab.kernel.invokeFunction(\n",
              "            'suggestCharts', [key], {});\n",
              "      } catch (error) {\n",
              "        console.error('Error during call to suggestCharts:', error);\n",
              "      }\n",
              "      quickchartButtonEl.classList.remove('colab-df-spinner');\n",
              "      quickchartButtonEl.classList.add('colab-df-quickchart-complete');\n",
              "    }\n",
              "    (() => {\n",
              "      let quickchartButtonEl =\n",
              "        document.querySelector('#df-5368c5d4-14a4-4b39-8fc5-d6eda079be4d button');\n",
              "      quickchartButtonEl.style.display =\n",
              "        google.colab.kernel.accessAllowed ? 'block' : 'none';\n",
              "    })();\n",
              "  </script>\n",
              "</div>\n",
              "    </div>\n",
              "  </div>\n"
            ],
            "application/vnd.google.colaboratory.intrinsic+json": {
              "type": "dataframe",
              "variable_name": "df_droped",
              "summary": "{\n  \"name\": \"df_droped\",\n  \"rows\": 981,\n  \"fields\": [\n    {\n      \"column\": \"pclass\",\n      \"properties\": {\n        \"dtype\": \"number\",\n        \"std\": 0,\n        \"min\": 1,\n        \"max\": 3,\n        \"num_unique_values\": 3,\n        \"samples\": [\n          3,\n          1,\n          2\n        ],\n        \"semantic_type\": \"\",\n        \"description\": \"\"\n      }\n    },\n    {\n      \"column\": \"survived\",\n      \"properties\": {\n        \"dtype\": \"number\",\n        \"std\": 0,\n        \"min\": 0,\n        \"max\": 1,\n        \"num_unique_values\": 2,\n        \"samples\": [\n          0,\n          1\n        ],\n        \"semantic_type\": \"\",\n        \"description\": \"\"\n      }\n    },\n    {\n      \"column\": \"name\",\n      \"properties\": {\n        \"dtype\": \"string\",\n        \"num_unique_values\": 981,\n        \"samples\": [\n          \"Nakid, Mr. Sahid\",\n          \"Morrow, Mr. Thomas Rowan\"\n        ],\n        \"semantic_type\": \"\",\n        \"description\": \"\"\n      }\n    },\n    {\n      \"column\": \"sex\",\n      \"properties\": {\n        \"dtype\": \"category\",\n        \"num_unique_values\": 2,\n        \"samples\": [\n          \"male\",\n          \"female\"\n        ],\n        \"semantic_type\": \"\",\n        \"description\": \"\"\n      }\n    },\n    {\n      \"column\": \"age\",\n      \"properties\": {\n        \"dtype\": \"number\",\n        \"std\": 14.482024573057402,\n        \"min\": 0.3333,\n        \"max\": 80.0,\n        \"num_unique_values\": 92,\n        \"samples\": [\n          11.0,\n          33.0\n        ],\n        \"semantic_type\": \"\",\n        \"description\": \"\"\n      }\n    },\n    {\n      \"column\": \"sibsp\",\n      \"properties\": {\n        \"dtype\": \"number\",\n        \"std\": 0,\n        \"min\": 0,\n        \"max\": 8,\n        \"num_unique_values\": 7,\n        \"samples\": [\n          0,\n          4\n        ],\n        \"semantic_type\": \"\",\n        \"description\": \"\"\n      }\n    },\n    {\n      \"column\": \"parch\",\n      \"properties\": {\n        \"dtype\": \"number\",\n        \"std\": 0,\n        \"min\": 0,\n        \"max\": 9,\n        \"num_unique_values\": 7,\n        \"samples\": [\n          0,\n          2\n        ],\n        \"semantic_type\": \"\",\n        \"description\": \"\"\n      }\n    },\n    {\n      \"column\": \"fare\",\n      \"properties\": {\n        \"dtype\": \"number\",\n        \"std\": 49.30625839020259,\n        \"min\": 0.0,\n        \"max\": 512.3292,\n        \"num_unique_values\": 254,\n        \"samples\": [\n          9.325,\n          26.0\n        ],\n        \"semantic_type\": \"\",\n        \"description\": \"\"\n      }\n    },\n    {\n      \"column\": \"embarked\",\n      \"properties\": {\n        \"dtype\": \"category\",\n        \"num_unique_values\": 3,\n        \"samples\": [\n          \"Q\",\n          \"C\"\n        ],\n        \"semantic_type\": \"\",\n        \"description\": \"\"\n      }\n    }\n  ]\n}"
            }
          },
          "metadata": {},
          "execution_count": 97
        }
      ]
    },
    {
      "cell_type": "markdown",
      "source": [
        "Из описания набора данных видно, что колонки <code>sibsp</code> и <code>parch</code> по сути отвечают за размер семьи. Замените эти две колонки на колонку <code>fam_size</code>, значения которой будут вычисляться как сумма соответствующих значений в колонках <code>sibsp</code> и <code>parch</code>."
      ],
      "metadata": {
        "id": "5Porb6vGmpke"
      }
    },
    {
      "cell_type": "code",
      "source": [
        "df_droped['fam_size'] = df_droped['sibsp'] + df_droped['parch']\n",
        "df_droped = df_droped.drop(columns=['sibsp', 'parch'])\n",
        "print('\\nФинальное число признаков: ', df_droped.shape[1]-1)\n",
        "print('Среднее колонки fam_size', df_droped['fam_size'].mean())\n",
        "df_droped"
      ],
      "metadata": {
        "colab": {
          "base_uri": "https://localhost:8080/",
          "height": 475
        },
        "id": "knvpyHMrm4f-",
        "outputId": "fa316e9c-ab4d-4f89-c6e9-dade36fa29c6"
      },
      "execution_count": null,
      "outputs": [
        {
          "output_type": "stream",
          "name": "stdout",
          "text": [
            "\n",
            "Финальное число признаков:  7\n",
            "Среднее колонки fam_size 0.8664627930682977\n"
          ]
        },
        {
          "output_type": "execute_result",
          "data": {
            "text/plain": [
              "     pclass  survived                                             name  \\\n",
              "0         3         1                               Smyth, Miss. Julia   \n",
              "1         3         1                         Glynn, Miss. Mary Agatha   \n",
              "2         3         1  Whabee, Mrs. George Joseph (Shawneene Abi-Saab)   \n",
              "3         3         0                                  Vovk, Mr. Janko   \n",
              "4         3         0                        de Pelsmaeker, Mr. Alfons   \n",
              "..      ...       ...                                              ...   \n",
              "976       3         1                      Howard, Miss. May Elizabeth   \n",
              "977       3         1                       Dorking, Mr. Edward Arthur   \n",
              "978       2         0                     Gillespie, Mr. William Henry   \n",
              "979       3         0                           Barton, Mr. David John   \n",
              "980       1         0                     Allison, Miss. Helen Loraine   \n",
              "\n",
              "        sex   age      fare embarked  fam_size  \n",
              "0    female   NaN    7.7333        Q         0  \n",
              "1    female   NaN    7.7500        Q         0  \n",
              "2    female  38.0    7.2292        C         0  \n",
              "3      male  22.0    7.8958        S         0  \n",
              "4      male  16.0    9.5000        S         0  \n",
              "..      ...   ...       ...      ...       ...  \n",
              "976  female   NaN    8.0500        S         0  \n",
              "977    male  19.0    8.0500        S         0  \n",
              "978    male  34.0   13.0000        S         0  \n",
              "979    male  22.0    8.0500        S         0  \n",
              "980  female   2.0  151.5500        S         3  \n",
              "\n",
              "[981 rows x 8 columns]"
            ],
            "text/html": [
              "\n",
              "  <div id=\"df-9b42995c-a392-45b7-ac69-f5a96c152b7e\" class=\"colab-df-container\">\n",
              "    <div>\n",
              "<style scoped>\n",
              "    .dataframe tbody tr th:only-of-type {\n",
              "        vertical-align: middle;\n",
              "    }\n",
              "\n",
              "    .dataframe tbody tr th {\n",
              "        vertical-align: top;\n",
              "    }\n",
              "\n",
              "    .dataframe thead th {\n",
              "        text-align: right;\n",
              "    }\n",
              "</style>\n",
              "<table border=\"1\" class=\"dataframe\">\n",
              "  <thead>\n",
              "    <tr style=\"text-align: right;\">\n",
              "      <th></th>\n",
              "      <th>pclass</th>\n",
              "      <th>survived</th>\n",
              "      <th>name</th>\n",
              "      <th>sex</th>\n",
              "      <th>age</th>\n",
              "      <th>fare</th>\n",
              "      <th>embarked</th>\n",
              "      <th>fam_size</th>\n",
              "    </tr>\n",
              "  </thead>\n",
              "  <tbody>\n",
              "    <tr>\n",
              "      <th>0</th>\n",
              "      <td>3</td>\n",
              "      <td>1</td>\n",
              "      <td>Smyth, Miss. Julia</td>\n",
              "      <td>female</td>\n",
              "      <td>NaN</td>\n",
              "      <td>7.7333</td>\n",
              "      <td>Q</td>\n",
              "      <td>0</td>\n",
              "    </tr>\n",
              "    <tr>\n",
              "      <th>1</th>\n",
              "      <td>3</td>\n",
              "      <td>1</td>\n",
              "      <td>Glynn, Miss. Mary Agatha</td>\n",
              "      <td>female</td>\n",
              "      <td>NaN</td>\n",
              "      <td>7.7500</td>\n",
              "      <td>Q</td>\n",
              "      <td>0</td>\n",
              "    </tr>\n",
              "    <tr>\n",
              "      <th>2</th>\n",
              "      <td>3</td>\n",
              "      <td>1</td>\n",
              "      <td>Whabee, Mrs. George Joseph (Shawneene Abi-Saab)</td>\n",
              "      <td>female</td>\n",
              "      <td>38.0</td>\n",
              "      <td>7.2292</td>\n",
              "      <td>C</td>\n",
              "      <td>0</td>\n",
              "    </tr>\n",
              "    <tr>\n",
              "      <th>3</th>\n",
              "      <td>3</td>\n",
              "      <td>0</td>\n",
              "      <td>Vovk, Mr. Janko</td>\n",
              "      <td>male</td>\n",
              "      <td>22.0</td>\n",
              "      <td>7.8958</td>\n",
              "      <td>S</td>\n",
              "      <td>0</td>\n",
              "    </tr>\n",
              "    <tr>\n",
              "      <th>4</th>\n",
              "      <td>3</td>\n",
              "      <td>0</td>\n",
              "      <td>de Pelsmaeker, Mr. Alfons</td>\n",
              "      <td>male</td>\n",
              "      <td>16.0</td>\n",
              "      <td>9.5000</td>\n",
              "      <td>S</td>\n",
              "      <td>0</td>\n",
              "    </tr>\n",
              "    <tr>\n",
              "      <th>...</th>\n",
              "      <td>...</td>\n",
              "      <td>...</td>\n",
              "      <td>...</td>\n",
              "      <td>...</td>\n",
              "      <td>...</td>\n",
              "      <td>...</td>\n",
              "      <td>...</td>\n",
              "      <td>...</td>\n",
              "    </tr>\n",
              "    <tr>\n",
              "      <th>976</th>\n",
              "      <td>3</td>\n",
              "      <td>1</td>\n",
              "      <td>Howard, Miss. May Elizabeth</td>\n",
              "      <td>female</td>\n",
              "      <td>NaN</td>\n",
              "      <td>8.0500</td>\n",
              "      <td>S</td>\n",
              "      <td>0</td>\n",
              "    </tr>\n",
              "    <tr>\n",
              "      <th>977</th>\n",
              "      <td>3</td>\n",
              "      <td>1</td>\n",
              "      <td>Dorking, Mr. Edward Arthur</td>\n",
              "      <td>male</td>\n",
              "      <td>19.0</td>\n",
              "      <td>8.0500</td>\n",
              "      <td>S</td>\n",
              "      <td>0</td>\n",
              "    </tr>\n",
              "    <tr>\n",
              "      <th>978</th>\n",
              "      <td>2</td>\n",
              "      <td>0</td>\n",
              "      <td>Gillespie, Mr. William Henry</td>\n",
              "      <td>male</td>\n",
              "      <td>34.0</td>\n",
              "      <td>13.0000</td>\n",
              "      <td>S</td>\n",
              "      <td>0</td>\n",
              "    </tr>\n",
              "    <tr>\n",
              "      <th>979</th>\n",
              "      <td>3</td>\n",
              "      <td>0</td>\n",
              "      <td>Barton, Mr. David John</td>\n",
              "      <td>male</td>\n",
              "      <td>22.0</td>\n",
              "      <td>8.0500</td>\n",
              "      <td>S</td>\n",
              "      <td>0</td>\n",
              "    </tr>\n",
              "    <tr>\n",
              "      <th>980</th>\n",
              "      <td>1</td>\n",
              "      <td>0</td>\n",
              "      <td>Allison, Miss. Helen Loraine</td>\n",
              "      <td>female</td>\n",
              "      <td>2.0</td>\n",
              "      <td>151.5500</td>\n",
              "      <td>S</td>\n",
              "      <td>3</td>\n",
              "    </tr>\n",
              "  </tbody>\n",
              "</table>\n",
              "<p>981 rows × 8 columns</p>\n",
              "</div>\n",
              "    <div class=\"colab-df-buttons\">\n",
              "\n",
              "  <div class=\"colab-df-container\">\n",
              "    <button class=\"colab-df-convert\" onclick=\"convertToInteractive('df-9b42995c-a392-45b7-ac69-f5a96c152b7e')\"\n",
              "            title=\"Convert this dataframe to an interactive table.\"\n",
              "            style=\"display:none;\">\n",
              "\n",
              "  <svg xmlns=\"http://www.w3.org/2000/svg\" height=\"24px\" viewBox=\"0 -960 960 960\">\n",
              "    <path d=\"M120-120v-720h720v720H120Zm60-500h600v-160H180v160Zm220 220h160v-160H400v160Zm0 220h160v-160H400v160ZM180-400h160v-160H180v160Zm440 0h160v-160H620v160ZM180-180h160v-160H180v160Zm440 0h160v-160H620v160Z\"/>\n",
              "  </svg>\n",
              "    </button>\n",
              "\n",
              "  <style>\n",
              "    .colab-df-container {\n",
              "      display:flex;\n",
              "      gap: 12px;\n",
              "    }\n",
              "\n",
              "    .colab-df-convert {\n",
              "      background-color: #E8F0FE;\n",
              "      border: none;\n",
              "      border-radius: 50%;\n",
              "      cursor: pointer;\n",
              "      display: none;\n",
              "      fill: #1967D2;\n",
              "      height: 32px;\n",
              "      padding: 0 0 0 0;\n",
              "      width: 32px;\n",
              "    }\n",
              "\n",
              "    .colab-df-convert:hover {\n",
              "      background-color: #E2EBFA;\n",
              "      box-shadow: 0px 1px 2px rgba(60, 64, 67, 0.3), 0px 1px 3px 1px rgba(60, 64, 67, 0.15);\n",
              "      fill: #174EA6;\n",
              "    }\n",
              "\n",
              "    .colab-df-buttons div {\n",
              "      margin-bottom: 4px;\n",
              "    }\n",
              "\n",
              "    [theme=dark] .colab-df-convert {\n",
              "      background-color: #3B4455;\n",
              "      fill: #D2E3FC;\n",
              "    }\n",
              "\n",
              "    [theme=dark] .colab-df-convert:hover {\n",
              "      background-color: #434B5C;\n",
              "      box-shadow: 0px 1px 3px 1px rgba(0, 0, 0, 0.15);\n",
              "      filter: drop-shadow(0px 1px 2px rgba(0, 0, 0, 0.3));\n",
              "      fill: #FFFFFF;\n",
              "    }\n",
              "  </style>\n",
              "\n",
              "    <script>\n",
              "      const buttonEl =\n",
              "        document.querySelector('#df-9b42995c-a392-45b7-ac69-f5a96c152b7e button.colab-df-convert');\n",
              "      buttonEl.style.display =\n",
              "        google.colab.kernel.accessAllowed ? 'block' : 'none';\n",
              "\n",
              "      async function convertToInteractive(key) {\n",
              "        const element = document.querySelector('#df-9b42995c-a392-45b7-ac69-f5a96c152b7e');\n",
              "        const dataTable =\n",
              "          await google.colab.kernel.invokeFunction('convertToInteractive',\n",
              "                                                    [key], {});\n",
              "        if (!dataTable) return;\n",
              "\n",
              "        const docLinkHtml = 'Like what you see? Visit the ' +\n",
              "          '<a target=\"_blank\" href=https://colab.research.google.com/notebooks/data_table.ipynb>data table notebook</a>'\n",
              "          + ' to learn more about interactive tables.';\n",
              "        element.innerHTML = '';\n",
              "        dataTable['output_type'] = 'display_data';\n",
              "        await google.colab.output.renderOutput(dataTable, element);\n",
              "        const docLink = document.createElement('div');\n",
              "        docLink.innerHTML = docLinkHtml;\n",
              "        element.appendChild(docLink);\n",
              "      }\n",
              "    </script>\n",
              "  </div>\n",
              "\n",
              "\n",
              "<div id=\"df-1c2c749f-09e8-4ba2-8bc4-b64b91895e0c\">\n",
              "  <button class=\"colab-df-quickchart\" onclick=\"quickchart('df-1c2c749f-09e8-4ba2-8bc4-b64b91895e0c')\"\n",
              "            title=\"Suggest charts\"\n",
              "            style=\"display:none;\">\n",
              "\n",
              "<svg xmlns=\"http://www.w3.org/2000/svg\" height=\"24px\"viewBox=\"0 0 24 24\"\n",
              "     width=\"24px\">\n",
              "    <g>\n",
              "        <path d=\"M19 3H5c-1.1 0-2 .9-2 2v14c0 1.1.9 2 2 2h14c1.1 0 2-.9 2-2V5c0-1.1-.9-2-2-2zM9 17H7v-7h2v7zm4 0h-2V7h2v10zm4 0h-2v-4h2v4z\"/>\n",
              "    </g>\n",
              "</svg>\n",
              "  </button>\n",
              "\n",
              "<style>\n",
              "  .colab-df-quickchart {\n",
              "      --bg-color: #E8F0FE;\n",
              "      --fill-color: #1967D2;\n",
              "      --hover-bg-color: #E2EBFA;\n",
              "      --hover-fill-color: #174EA6;\n",
              "      --disabled-fill-color: #AAA;\n",
              "      --disabled-bg-color: #DDD;\n",
              "  }\n",
              "\n",
              "  [theme=dark] .colab-df-quickchart {\n",
              "      --bg-color: #3B4455;\n",
              "      --fill-color: #D2E3FC;\n",
              "      --hover-bg-color: #434B5C;\n",
              "      --hover-fill-color: #FFFFFF;\n",
              "      --disabled-bg-color: #3B4455;\n",
              "      --disabled-fill-color: #666;\n",
              "  }\n",
              "\n",
              "  .colab-df-quickchart {\n",
              "    background-color: var(--bg-color);\n",
              "    border: none;\n",
              "    border-radius: 50%;\n",
              "    cursor: pointer;\n",
              "    display: none;\n",
              "    fill: var(--fill-color);\n",
              "    height: 32px;\n",
              "    padding: 0;\n",
              "    width: 32px;\n",
              "  }\n",
              "\n",
              "  .colab-df-quickchart:hover {\n",
              "    background-color: var(--hover-bg-color);\n",
              "    box-shadow: 0 1px 2px rgba(60, 64, 67, 0.3), 0 1px 3px 1px rgba(60, 64, 67, 0.15);\n",
              "    fill: var(--button-hover-fill-color);\n",
              "  }\n",
              "\n",
              "  .colab-df-quickchart-complete:disabled,\n",
              "  .colab-df-quickchart-complete:disabled:hover {\n",
              "    background-color: var(--disabled-bg-color);\n",
              "    fill: var(--disabled-fill-color);\n",
              "    box-shadow: none;\n",
              "  }\n",
              "\n",
              "  .colab-df-spinner {\n",
              "    border: 2px solid var(--fill-color);\n",
              "    border-color: transparent;\n",
              "    border-bottom-color: var(--fill-color);\n",
              "    animation:\n",
              "      spin 1s steps(1) infinite;\n",
              "  }\n",
              "\n",
              "  @keyframes spin {\n",
              "    0% {\n",
              "      border-color: transparent;\n",
              "      border-bottom-color: var(--fill-color);\n",
              "      border-left-color: var(--fill-color);\n",
              "    }\n",
              "    20% {\n",
              "      border-color: transparent;\n",
              "      border-left-color: var(--fill-color);\n",
              "      border-top-color: var(--fill-color);\n",
              "    }\n",
              "    30% {\n",
              "      border-color: transparent;\n",
              "      border-left-color: var(--fill-color);\n",
              "      border-top-color: var(--fill-color);\n",
              "      border-right-color: var(--fill-color);\n",
              "    }\n",
              "    40% {\n",
              "      border-color: transparent;\n",
              "      border-right-color: var(--fill-color);\n",
              "      border-top-color: var(--fill-color);\n",
              "    }\n",
              "    60% {\n",
              "      border-color: transparent;\n",
              "      border-right-color: var(--fill-color);\n",
              "    }\n",
              "    80% {\n",
              "      border-color: transparent;\n",
              "      border-right-color: var(--fill-color);\n",
              "      border-bottom-color: var(--fill-color);\n",
              "    }\n",
              "    90% {\n",
              "      border-color: transparent;\n",
              "      border-bottom-color: var(--fill-color);\n",
              "    }\n",
              "  }\n",
              "</style>\n",
              "\n",
              "  <script>\n",
              "    async function quickchart(key) {\n",
              "      const quickchartButtonEl =\n",
              "        document.querySelector('#' + key + ' button');\n",
              "      quickchartButtonEl.disabled = true;  // To prevent multiple clicks.\n",
              "      quickchartButtonEl.classList.add('colab-df-spinner');\n",
              "      try {\n",
              "        const charts = await google.colab.kernel.invokeFunction(\n",
              "            'suggestCharts', [key], {});\n",
              "      } catch (error) {\n",
              "        console.error('Error during call to suggestCharts:', error);\n",
              "      }\n",
              "      quickchartButtonEl.classList.remove('colab-df-spinner');\n",
              "      quickchartButtonEl.classList.add('colab-df-quickchart-complete');\n",
              "    }\n",
              "    (() => {\n",
              "      let quickchartButtonEl =\n",
              "        document.querySelector('#df-1c2c749f-09e8-4ba2-8bc4-b64b91895e0c button');\n",
              "      quickchartButtonEl.style.display =\n",
              "        google.colab.kernel.accessAllowed ? 'block' : 'none';\n",
              "    })();\n",
              "  </script>\n",
              "</div>\n",
              "    </div>\n",
              "  </div>\n"
            ],
            "application/vnd.google.colaboratory.intrinsic+json": {
              "type": "dataframe",
              "variable_name": "df_droped",
              "summary": "{\n  \"name\": \"df_droped\",\n  \"rows\": 981,\n  \"fields\": [\n    {\n      \"column\": \"pclass\",\n      \"properties\": {\n        \"dtype\": \"number\",\n        \"std\": 0,\n        \"min\": 1,\n        \"max\": 3,\n        \"num_unique_values\": 3,\n        \"samples\": [\n          3,\n          1,\n          2\n        ],\n        \"semantic_type\": \"\",\n        \"description\": \"\"\n      }\n    },\n    {\n      \"column\": \"survived\",\n      \"properties\": {\n        \"dtype\": \"number\",\n        \"std\": 0,\n        \"min\": 0,\n        \"max\": 1,\n        \"num_unique_values\": 2,\n        \"samples\": [\n          0,\n          1\n        ],\n        \"semantic_type\": \"\",\n        \"description\": \"\"\n      }\n    },\n    {\n      \"column\": \"name\",\n      \"properties\": {\n        \"dtype\": \"string\",\n        \"num_unique_values\": 981,\n        \"samples\": [\n          \"Nakid, Mr. Sahid\",\n          \"Morrow, Mr. Thomas Rowan\"\n        ],\n        \"semantic_type\": \"\",\n        \"description\": \"\"\n      }\n    },\n    {\n      \"column\": \"sex\",\n      \"properties\": {\n        \"dtype\": \"category\",\n        \"num_unique_values\": 2,\n        \"samples\": [\n          \"male\",\n          \"female\"\n        ],\n        \"semantic_type\": \"\",\n        \"description\": \"\"\n      }\n    },\n    {\n      \"column\": \"age\",\n      \"properties\": {\n        \"dtype\": \"number\",\n        \"std\": 14.482024573057402,\n        \"min\": 0.3333,\n        \"max\": 80.0,\n        \"num_unique_values\": 92,\n        \"samples\": [\n          11.0,\n          33.0\n        ],\n        \"semantic_type\": \"\",\n        \"description\": \"\"\n      }\n    },\n    {\n      \"column\": \"fare\",\n      \"properties\": {\n        \"dtype\": \"number\",\n        \"std\": 49.30625839020259,\n        \"min\": 0.0,\n        \"max\": 512.3292,\n        \"num_unique_values\": 254,\n        \"samples\": [\n          9.325,\n          26.0\n        ],\n        \"semantic_type\": \"\",\n        \"description\": \"\"\n      }\n    },\n    {\n      \"column\": \"embarked\",\n      \"properties\": {\n        \"dtype\": \"category\",\n        \"num_unique_values\": 3,\n        \"samples\": [\n          \"Q\",\n          \"C\"\n        ],\n        \"semantic_type\": \"\",\n        \"description\": \"\"\n      }\n    },\n    {\n      \"column\": \"fam_size\",\n      \"properties\": {\n        \"dtype\": \"number\",\n        \"std\": 1,\n        \"min\": 0,\n        \"max\": 10,\n        \"num_unique_values\": 9,\n        \"samples\": [\n          7,\n          6\n        ],\n        \"semantic_type\": \"\",\n        \"description\": \"\"\n      }\n    }\n  ]\n}"
            }
          },
          "metadata": {},
          "execution_count": 98
        }
      ]
    },
    {
      "cell_type": "markdown",
      "source": [
        "Полученный датасет будем называть **исходным** (выброшенные на этом этапе признаки не нужно возвращать ни на одном из последующих этапов выполнения задания) Введите полученное число предикторов."
      ],
      "metadata": {
        "id": "X9Cmdl5fmyoi"
      }
    },
    {
      "cell_type": "markdown",
      "source": [
        "На основе имеющейся статистики оцените вероятность выжить если пассажир -- представитель определенной категории (указана в вашем индивидуальном задании)"
      ],
      "metadata": {
        "id": "wQOvPyj8Vx00"
      }
    },
    {
      "cell_type": "code",
      "source": [
        "from itertools import product\n",
        "classes = [1,2,3]\n",
        "gender = ['female', 'male']\n",
        "prob_to_survive = {}\n",
        "for cl, gn in product(classes, gender):\n",
        "  prob_to_survive['{} & pclass:{}'.format(gn,cl)] = len(df[(df['pclass']==cl) & (df['sex']==gn) & df['survived']==1])/len(df[(df['pclass']==cl) & (df['sex']==gn)])\n",
        "prob_to_survive"
      ],
      "metadata": {
        "colab": {
          "base_uri": "https://localhost:8080/"
        },
        "id": "hFpZp4LaeS9Q",
        "outputId": "1029b57f-5bb2-4aa8-f4ba-93d6d5c291c7"
      },
      "execution_count": null,
      "outputs": [
        {
          "output_type": "execute_result",
          "data": {
            "text/plain": [
              "{'female & pclass:1': 0.9711538461538461,\n",
              " 'male & pclass:1': 0.33088235294117646,\n",
              " 'female & pclass:2': 0.8461538461538461,\n",
              " 'male & pclass:2': 0.15503875968992248,\n",
              " 'female & pclass:3': 0.5030674846625767,\n",
              " 'male & pclass:3': 0.16442048517520216}"
            ]
          },
          "metadata": {},
          "execution_count": 99
        }
      ]
    },
    {
      "cell_type": "markdown",
      "source": [
        "Постройте гистограммы выжиших и невыживших по возрастам. Укажите номер гистограммы, соответствующей распределению возрастов выживших"
      ],
      "metadata": {
        "id": "sXxprQtFhSy4"
      }
    },
    {
      "cell_type": "code",
      "source": [
        "sns.histplot(data=df_droped[df_droped['survived']==0], x='age', bins=20)"
      ],
      "metadata": {
        "colab": {
          "base_uri": "https://localhost:8080/",
          "height": 466
        },
        "id": "DuEJhMPiC2bv",
        "outputId": "dfb519d5-281c-498b-ba42-2465cfc70065"
      },
      "execution_count": null,
      "outputs": [
        {
          "output_type": "execute_result",
          "data": {
            "text/plain": [
              "<Axes: xlabel='age', ylabel='Count'>"
            ]
          },
          "metadata": {},
          "execution_count": 100
        },
        {
          "output_type": "display_data",
          "data": {
            "text/plain": [
              "<Figure size 640x480 with 1 Axes>"
            ],
            "image/png": "[encoded data removed]"
          },
          "metadata": {}
        }
      ]
    },
    {
      "cell_type": "code",
      "source": [
        "sns.histplot(data=df_droped[df_droped['survived']==1], x='age', bins=15)"
      ],
      "metadata": {
        "id": "K3wHT2Uzr3nb",
        "colab": {
          "base_uri": "https://localhost:8080/",
          "height": 466
        },
        "outputId": "2c74ae8b-4e45-4383-a086-a43cd9161947"
      },
      "execution_count": null,
      "outputs": [
        {
          "output_type": "execute_result",
          "data": {
            "text/plain": [
              "<Axes: xlabel='age', ylabel='Count'>"
            ]
          },
          "metadata": {},
          "execution_count": 101
        },
        {
          "output_type": "display_data",
          "data": {
            "text/plain": [
              "<Figure size 640x480 with 1 Axes>"
            ],
            "image/png": "[encoded data removed]"
          },
          "metadata": {}
        }
      ]
    },
    {
      "cell_type": "markdown",
      "source": [
        "# Модель на основе числовых признаков"
      ],
      "metadata": {
        "id": "u_bO7O9v0ovG"
      }
    },
    {
      "cell_type": "markdown",
      "source": [
        "## Удаление строк с пропусками"
      ],
      "metadata": {
        "id": "VJPhFX8M38SF"
      }
    },
    {
      "cell_type": "markdown",
      "source": [
        "В качестве базовой модели имеет смысл построить модель с минимальными трудозатратами.\n",
        "\n",
        "Из исходного датасета удалите все категориальные признаки, а также строки, содержащие пропуски.\n",
        "\n",
        "При помощи <code>train_test_split()</code> разбейте набор данных на обучающую и тестовую выборки<b> с параметрами, указанными в вашем задании</b>. Используйте стратификацию по колонке <code>survived</code>.\n",
        "\n",
        "Обучите модель <code>LogisticRegression()</code> <b>с параметрами, указанными в вашем задании</b>, на тренировочных данных, оцените на тестовых.\n",
        "\n",
        "Вычислите <code>f1_score</code> модели на тестовых данных (рекомендуем использовать <a href=\"https://scikit-learn.org/stable/modules/generated/sklearn.metrics.f1_score.html\">соответствующую функцию</a> с параметрами по умолчанию.\n",
        "\n"
      ],
      "metadata": {
        "id": "kAO1Bd2Q0qZr"
      }
    },
    {
      "cell_type": "markdown",
      "source": [
        "Определение категориальных и не категориальных признаков\n",
        "python\n",
        "Copy\n",
        "cat_features = ['name', 'sex', 'embarked']\n",
        "non_cat_features = list(set(df_droped.columns).difference(set(cat_features)))\n",
        "cat_features — это список, содержащий имена категориальных признаков (столбцов) в датафрейме df_droped. В данном случае это 'name', 'sex' и 'embarked'.\n",
        "\n",
        "non_cat_features — это список, содержащий имена всех остальных признаков (столбцов) в датафрейме df_droped, которые не являются категориальными. Это делается с помощью операции difference между множеством всех столбцов и множеством категориальных столбцов.\n",
        "\n",
        "2. Удаление строк с пропущенными значениями и построение модели\n",
        "python\n",
        "Copy\n",
        "score, report = build_model(df_droped[non_cat_features].dropna())\n",
        "df_droped[non_cat_features] — это подмножество датафрейма df_droped, содержащее только не категориальные признаки.\n",
        "\n",
        ".dropna() — это метод, который удаляет все строки, содержащие хотя бы одно пропущенное значение (NaN) в любом из столбцов.\n",
        "\n",
        "build_model(...) — это функция, которая принимает очищенный датафрейм (без пропущенных значений) и возвращает два значения: score и report. Предположительно, score — это метрика качества модели (например, F1-score), а report — это отчет о производительности модели (например, classification report)."
      ],
      "metadata": {
        "id": "RfuTa_o6EI6s"
      }
    },
    {
      "cell_type": "code",
      "source": [
        "from sklearn.linear_model import LogisticRegression\n",
        "from sklearn.metrics import f1_score\n",
        "from sklearn.metrics import classification_report\n",
        "from sklearn.model_selection import train_test_split\n",
        "\n",
        "random_state = 13\n",
        "\n",
        "\n",
        "def build_model(df):\n",
        "  X, y = df.drop('survived', axis=1), df['survived']\n",
        "  X_train, X_test, y_train, y_test = train_test_split(X, y, test_size=0.2, random_state=random_state, stratify=y)\n",
        "  lr = LogisticRegression(random_state=random_state, max_iter=1000).fit(X_train, y_train)\n",
        "  y_pred = lr.predict(X_test)\n",
        "  f_1_score = f1_score(y_test, y_pred)\n",
        "  report = classification_report(y_test, y_pred, digits = 3)\n",
        "  return f_1_score, report, y_pred\n",
        "\n",
        "cat_features = ['name', 'sex', 'embarked']\n",
        "non_cat_features = list(set(df_droped.columns).difference(set(cat_features)))\n",
        "score, report, y_pred = build_model(df_droped[non_cat_features].dropna())\n",
        "print('f1_score_drop_na', score)"
      ],
      "metadata": {
        "colab": {
          "base_uri": "https://localhost:8080/"
        },
        "id": "8JJ6qQT618Uz",
        "outputId": "3740915c-0cca-46b2-d417-a8bc3503205d"
      },
      "execution_count": null,
      "outputs": [
        {
          "output_type": "stream",
          "name": "stdout",
          "text": [
            "f1_score_drop_na 0.4423076923076923\n"
          ]
        }
      ]
    },
    {
      "cell_type": "code",
      "source": [
        "print(report)"
      ],
      "metadata": {
        "colab": {
          "base_uri": "https://localhost:8080/"
        },
        "id": "r-cMnXEoETfi",
        "outputId": "778364db-bf45-428c-ad38-afd7ebb02ad3"
      },
      "execution_count": null,
      "outputs": [
        {
          "output_type": "stream",
          "name": "stdout",
          "text": [
            "              precision    recall  f1-score   support\n",
            "\n",
            "           0      0.650     0.817     0.724        93\n",
            "           1      0.575     0.359     0.442        64\n",
            "\n",
            "    accuracy                          0.631       157\n",
            "   macro avg      0.612     0.588     0.583       157\n",
            "weighted avg      0.619     0.631     0.609       157\n",
            "\n"
          ]
        }
      ]
    },
    {
      "cell_type": "code",
      "source": [
        "print('y_pred',y_pred)"
      ],
      "metadata": {
        "colab": {
          "base_uri": "https://localhost:8080/"
        },
        "id": "Y1YdUek_d0WP",
        "outputId": "9286dac4-eab9-4613-c3ad-9b9e51afb3e5"
      },
      "execution_count": null,
      "outputs": [
        {
          "output_type": "stream",
          "name": "stdout",
          "text": [
            "y_pred [0 0 0 1 1 1 0 0 0 0 0 0 0 1 1 0 0 0 0 1 0 0 0 0 1 0 0 1 0 0 0 0 0 0 0 0 0\n",
            " 0 1 0 0 0 0 0 1 0 1 0 1 0 0 0 0 0 0 1 0 0 1 0 1 0 1 1 0 0 0 0 0 0 1 0 0 0\n",
            " 0 1 1 0 1 0 0 0 0 0 0 1 0 0 0 1 1 0 0 0 1 0 0 0 1 1 0 0 0 0 1 0 0 0 0 0 0\n",
            " 0 1 0 0 0 0 0 0 0 0 0 1 0 1 1 0 1 0 0 1 1 0 0 0 0 0 0 0 0 0 1 0 0 0 0 1 0\n",
            " 0 0 0 0 1 0 1 1 0]\n"
          ]
        }
      ]
    },
    {
      "cell_type": "markdown",
      "source": [
        "## Заполнение пропусков средним"
      ],
      "metadata": {
        "id": "UL6H4BxE3y-f"
      }
    },
    {
      "cell_type": "markdown",
      "source": [
        "Качество полученной модели оставляет желать лучшего. Имеет смысл попробовать заполнить пропуски. Из исходного набора данных удалите категориальные признаки, а пропуски заполните средним по столбцу. Далее аналогично: разделение, обучение, оценка.\n",
        "\n",
        "Вычислите <code>f1_score</code> модели на тестовых данных"
      ],
      "metadata": {
        "id": "vD6NntW04OJF"
      }
    },
    {
      "cell_type": "code",
      "source": [
        "from sklearn.impute import SimpleImputer\n",
        "df_imputed_by_mean = df_droped[non_cat_features].fillna(df_droped[non_cat_features].mean()['age'])\n",
        "score, report,y_pred = build_model(df_imputed_by_mean)\n",
        "print('f1_score_imputed_by_mean', score)"
      ],
      "metadata": {
        "colab": {
          "base_uri": "https://localhost:8080/"
        },
        "id": "zMYFLiWZ4Gw-",
        "outputId": "1c2605de-21e8-4249-e960-3295f5d542a9"
      },
      "execution_count": null,
      "outputs": [
        {
          "output_type": "stream",
          "name": "stdout",
          "text": [
            "f1_score_imputed_by_mean 0.4482758620689655\n"
          ]
        }
      ]
    },
    {
      "cell_type": "markdown",
      "source": [
        "## Заполнение пропусков на основе обращения"
      ],
      "metadata": {
        "id": "dxuJDvb1_p_e"
      }
    },
    {
      "cell_type": "markdown",
      "source": [
        "\n",
        "Очевидно, что заполнение пропусков в колонке <code>age</code> средним — не самая разумная идея. Возможно, стоит выполнить эту процедуру как-то более интеллектуально, например, с оглядкой на обращение к человеку.\n",
        "\n",
        "Можно заметить, что исходный датасет в столбце <code>name</code> содержит информацию о социальном статусе пассажира, а именно присутсвуют обращения <code>Mr., Mrs., Dr.</code> и т.д. На основе этой информации можно попробовать сделать предположение о возрасте пассажира.\n",
        "\n",
        "Верните в рассмотрение колонку <code>name</code>. Создайте отдельную колонку <code>honorific</code> и поместите туда значения обращений.\n",
        "\n",
        "Вычислите число уникальных обращений."
      ],
      "metadata": {
        "id": "9ew5okxzKdLh"
      }
    },
    {
      "cell_type": "code",
      "source": [
        "df_droped['honorific'] = list(df_droped['name'].str.extract('([A-Za-z]+)\\.')[0])\n",
        "pd.crosstab(df_droped['sex'],df_droped['honorific']).style.background_gradient()"
      ],
      "metadata": {
        "colab": {
          "base_uri": "https://localhost:8080/",
          "height": 143
        },
        "id": "fMbYRoa-DArO",
        "outputId": "d9a95784-3ea9-47c2-f751-a97e411c3056"
      },
      "execution_count": null,
      "outputs": [
        {
          "output_type": "execute_result",
          "data": {
            "text/plain": [
              "<pandas.io.formats.style.Styler at 0x7c150da01810>"
            ],
            "text/html": [
              "<style type=\"text/css\">\n",
              "#T_3aeb1_row0_col0, #T_3aeb1_row0_col1, #T_3aeb1_row0_col3, #T_3aeb1_row0_col5, #T_3aeb1_row0_col6, #T_3aeb1_row0_col7, #T_3aeb1_row0_col10, #T_3aeb1_row0_col13, #T_3aeb1_row1_col2, #T_3aeb1_row1_col4, #T_3aeb1_row1_col8, #T_3aeb1_row1_col9, #T_3aeb1_row1_col11, #T_3aeb1_row1_col12 {\n",
              "  background-color: #fff7fb;\n",
              "  color: #000000;\n",
              "}\n",
              "#T_3aeb1_row0_col2, #T_3aeb1_row0_col4, #T_3aeb1_row0_col8, #T_3aeb1_row0_col9, #T_3aeb1_row0_col11, #T_3aeb1_row0_col12, #T_3aeb1_row1_col0, #T_3aeb1_row1_col1, #T_3aeb1_row1_col3, #T_3aeb1_row1_col5, #T_3aeb1_row1_col6, #T_3aeb1_row1_col7, #T_3aeb1_row1_col10, #T_3aeb1_row1_col13 {\n",
              "  background-color: #023858;\n",
              "  color: #f1f1f1;\n",
              "}\n",
              "</style>\n",
              "<table id=\"T_3aeb1\" class=\"dataframe\">\n",
              "  <thead>\n",
              "    <tr>\n",
              "      <th class=\"index_name level0\" >honorific</th>\n",
              "      <th id=\"T_3aeb1_level0_col0\" class=\"col_heading level0 col0\" >Capt</th>\n",
              "      <th id=\"T_3aeb1_level0_col1\" class=\"col_heading level0 col1\" >Col</th>\n",
              "      <th id=\"T_3aeb1_level0_col2\" class=\"col_heading level0 col2\" >Countess</th>\n",
              "      <th id=\"T_3aeb1_level0_col3\" class=\"col_heading level0 col3\" >Don</th>\n",
              "      <th id=\"T_3aeb1_level0_col4\" class=\"col_heading level0 col4\" >Dona</th>\n",
              "      <th id=\"T_3aeb1_level0_col5\" class=\"col_heading level0 col5\" >Dr</th>\n",
              "      <th id=\"T_3aeb1_level0_col6\" class=\"col_heading level0 col6\" >Major</th>\n",
              "      <th id=\"T_3aeb1_level0_col7\" class=\"col_heading level0 col7\" >Master</th>\n",
              "      <th id=\"T_3aeb1_level0_col8\" class=\"col_heading level0 col8\" >Miss</th>\n",
              "      <th id=\"T_3aeb1_level0_col9\" class=\"col_heading level0 col9\" >Mlle</th>\n",
              "      <th id=\"T_3aeb1_level0_col10\" class=\"col_heading level0 col10\" >Mr</th>\n",
              "      <th id=\"T_3aeb1_level0_col11\" class=\"col_heading level0 col11\" >Mrs</th>\n",
              "      <th id=\"T_3aeb1_level0_col12\" class=\"col_heading level0 col12\" >Ms</th>\n",
              "      <th id=\"T_3aeb1_level0_col13\" class=\"col_heading level0 col13\" >Rev</th>\n",
              "    </tr>\n",
              "    <tr>\n",
              "      <th class=\"index_name level0\" >sex</th>\n",
              "      <th class=\"blank col0\" >&nbsp;</th>\n",
              "      <th class=\"blank col1\" >&nbsp;</th>\n",
              "      <th class=\"blank col2\" >&nbsp;</th>\n",
              "      <th class=\"blank col3\" >&nbsp;</th>\n",
              "      <th class=\"blank col4\" >&nbsp;</th>\n",
              "      <th class=\"blank col5\" >&nbsp;</th>\n",
              "      <th class=\"blank col6\" >&nbsp;</th>\n",
              "      <th class=\"blank col7\" >&nbsp;</th>\n",
              "      <th class=\"blank col8\" >&nbsp;</th>\n",
              "      <th class=\"blank col9\" >&nbsp;</th>\n",
              "      <th class=\"blank col10\" >&nbsp;</th>\n",
              "      <th class=\"blank col11\" >&nbsp;</th>\n",
              "      <th class=\"blank col12\" >&nbsp;</th>\n",
              "      <th class=\"blank col13\" >&nbsp;</th>\n",
              "    </tr>\n",
              "  </thead>\n",
              "  <tbody>\n",
              "    <tr>\n",
              "      <th id=\"T_3aeb1_level0_row0\" class=\"row_heading level0 row0\" >female</th>\n",
              "      <td id=\"T_3aeb1_row0_col0\" class=\"data row0 col0\" >0</td>\n",
              "      <td id=\"T_3aeb1_row0_col1\" class=\"data row0 col1\" >0</td>\n",
              "      <td id=\"T_3aeb1_row0_col2\" class=\"data row0 col2\" >1</td>\n",
              "      <td id=\"T_3aeb1_row0_col3\" class=\"data row0 col3\" >0</td>\n",
              "      <td id=\"T_3aeb1_row0_col4\" class=\"data row0 col4\" >1</td>\n",
              "      <td id=\"T_3aeb1_row0_col5\" class=\"data row0 col5\" >0</td>\n",
              "      <td id=\"T_3aeb1_row0_col6\" class=\"data row0 col6\" >0</td>\n",
              "      <td id=\"T_3aeb1_row0_col7\" class=\"data row0 col7\" >0</td>\n",
              "      <td id=\"T_3aeb1_row0_col8\" class=\"data row0 col8\" >194</td>\n",
              "      <td id=\"T_3aeb1_row0_col9\" class=\"data row0 col9\" >2</td>\n",
              "      <td id=\"T_3aeb1_row0_col10\" class=\"data row0 col10\" >0</td>\n",
              "      <td id=\"T_3aeb1_row0_col11\" class=\"data row0 col11\" >145</td>\n",
              "      <td id=\"T_3aeb1_row0_col12\" class=\"data row0 col12\" >2</td>\n",
              "      <td id=\"T_3aeb1_row0_col13\" class=\"data row0 col13\" >0</td>\n",
              "    </tr>\n",
              "    <tr>\n",
              "      <th id=\"T_3aeb1_level0_row1\" class=\"row_heading level0 row1\" >male</th>\n",
              "      <td id=\"T_3aeb1_row1_col0\" class=\"data row1 col0\" >1</td>\n",
              "      <td id=\"T_3aeb1_row1_col1\" class=\"data row1 col1\" >3</td>\n",
              "      <td id=\"T_3aeb1_row1_col2\" class=\"data row1 col2\" >0</td>\n",
              "      <td id=\"T_3aeb1_row1_col3\" class=\"data row1 col3\" >1</td>\n",
              "      <td id=\"T_3aeb1_row1_col4\" class=\"data row1 col4\" >0</td>\n",
              "      <td id=\"T_3aeb1_row1_col5\" class=\"data row1 col5\" >6</td>\n",
              "      <td id=\"T_3aeb1_row1_col6\" class=\"data row1 col6\" >1</td>\n",
              "      <td id=\"T_3aeb1_row1_col7\" class=\"data row1 col7\" >46</td>\n",
              "      <td id=\"T_3aeb1_row1_col8\" class=\"data row1 col8\" >0</td>\n",
              "      <td id=\"T_3aeb1_row1_col9\" class=\"data row1 col9\" >0</td>\n",
              "      <td id=\"T_3aeb1_row1_col10\" class=\"data row1 col10\" >572</td>\n",
              "      <td id=\"T_3aeb1_row1_col11\" class=\"data row1 col11\" >0</td>\n",
              "      <td id=\"T_3aeb1_row1_col12\" class=\"data row1 col12\" >0</td>\n",
              "      <td id=\"T_3aeb1_row1_col13\" class=\"data row1 col13\" >6</td>\n",
              "    </tr>\n",
              "  </tbody>\n",
              "</table>\n"
            ]
          },
          "metadata": {},
          "execution_count": 106
        }
      ]
    },
    {
      "cell_type": "code",
      "source": [
        "print('Число уникальных honorific: ', len(df_droped['honorific'].unique()))\n",
        "df_droped['honorific'].unique()"
      ],
      "metadata": {
        "colab": {
          "base_uri": "https://localhost:8080/"
        },
        "id": "6j7ThAiyFXAA",
        "outputId": "f06792cc-1792-4a1e-bbb2-25f4478f46d3"
      },
      "execution_count": null,
      "outputs": [
        {
          "output_type": "stream",
          "name": "stdout",
          "text": [
            "Число уникальных honorific:  14\n"
          ]
        },
        {
          "output_type": "execute_result",
          "data": {
            "text/plain": [
              "array(['Miss', 'Mrs', 'Mr', 'Master', 'Mlle', 'Rev', 'Ms', 'Col', 'Dona',\n",
              "       'Dr', 'Countess', 'Major', 'Don', 'Capt'], dtype=object)"
            ]
          },
          "metadata": {},
          "execution_count": 107
        }
      ]
    },
    {
      "cell_type": "markdown",
      "source": [
        "Скорее всего имеет смысл сократить число обращений, добавив малочисленные группы к более многочисленным, так как принципиальной разницы между, например, <code>Don</code> и <code>Mr</code>, видимо, нет. Отметим, что <code>Master</code> — это прежнее обращение к ребенку, с этим обращением будем работать отдельно.\n",
        "\n",
        "\n",
        "\n",
        "\n",
        "Выполните следующие замены:\n",
        "\n",
        "<code>Mr</code> $\\leftarrow$ <code>['Rev', 'Col', 'Dr', 'Major', 'Don', 'Capt']</code>\n",
        "\n",
        "<code>Mrs</code> $\\leftarrow$ <code> ['Dona', 'Countess']</code>\n",
        "\n",
        "<code>Miss</code> $\\leftarrow$ <code> ['Mlle', 'Ms']</code>"
      ],
      "metadata": {
        "id": "6HNMeGu9GJWN"
      }
    },
    {
      "cell_type": "code",
      "source": [
        "df_droped['honorific'].\\\n",
        "replace(['Mlle', 'Rev', 'Ms' ,  'Col', 'Dona', 'Dr', 'Countess', 'Major', 'Don', 'Capt'],\\\n",
        "        ['Miss', 'Mr' , 'Miss', 'Mr' ,  'Mrs' ,  'Mr',    'Mrs'  ,  'Mr',  'Mr',  'Mr' ], inplace=True)\n",
        "pd.crosstab(df_droped['sex'],df_droped['honorific']).style.background_gradient()"
      ],
      "metadata": {
        "colab": {
          "base_uri": "https://localhost:8080/",
          "height": 285
        },
        "id": "jiQBH3_8G0SF",
        "outputId": "24a5e9c8-02e7-48f2-e213-e0b6a264e3b7"
      },
      "execution_count": null,
      "outputs": [
        {
          "output_type": "stream",
          "name": "stderr",
          "text": [
            "<ipython-input-108-5dfb057fe531>:1: FutureWarning: A value is trying to be set on a copy of a DataFrame or Series through chained assignment using an inplace method.\n",
            "The behavior will change in pandas 3.0. This inplace method will never work because the intermediate object on which we are setting values always behaves as a copy.\n",
            "\n",
            "For example, when doing 'df[col].method(value, inplace=True)', try using 'df.method({col: value}, inplace=True)' or df[col] = df[col].method(value) instead, to perform the operation inplace on the original object.\n",
            "\n",
            "\n",
            "  df_droped['honorific'].\\\n"
          ]
        },
        {
          "output_type": "execute_result",
          "data": {
            "text/plain": [
              "<pandas.io.formats.style.Styler at 0x7c150d9eba60>"
            ],
            "text/html": [
              "<style type=\"text/css\">\n",
              "#T_34d6e_row0_col0, #T_34d6e_row0_col2, #T_34d6e_row1_col1, #T_34d6e_row1_col3 {\n",
              "  background-color: #fff7fb;\n",
              "  color: #000000;\n",
              "}\n",
              "#T_34d6e_row0_col1, #T_34d6e_row0_col3, #T_34d6e_row1_col0, #T_34d6e_row1_col2 {\n",
              "  background-color: #023858;\n",
              "  color: #f1f1f1;\n",
              "}\n",
              "</style>\n",
              "<table id=\"T_34d6e\" class=\"dataframe\">\n",
              "  <thead>\n",
              "    <tr>\n",
              "      <th class=\"index_name level0\" >honorific</th>\n",
              "      <th id=\"T_34d6e_level0_col0\" class=\"col_heading level0 col0\" >Master</th>\n",
              "      <th id=\"T_34d6e_level0_col1\" class=\"col_heading level0 col1\" >Miss</th>\n",
              "      <th id=\"T_34d6e_level0_col2\" class=\"col_heading level0 col2\" >Mr</th>\n",
              "      <th id=\"T_34d6e_level0_col3\" class=\"col_heading level0 col3\" >Mrs</th>\n",
              "    </tr>\n",
              "    <tr>\n",
              "      <th class=\"index_name level0\" >sex</th>\n",
              "      <th class=\"blank col0\" >&nbsp;</th>\n",
              "      <th class=\"blank col1\" >&nbsp;</th>\n",
              "      <th class=\"blank col2\" >&nbsp;</th>\n",
              "      <th class=\"blank col3\" >&nbsp;</th>\n",
              "    </tr>\n",
              "  </thead>\n",
              "  <tbody>\n",
              "    <tr>\n",
              "      <th id=\"T_34d6e_level0_row0\" class=\"row_heading level0 row0\" >female</th>\n",
              "      <td id=\"T_34d6e_row0_col0\" class=\"data row0 col0\" >0</td>\n",
              "      <td id=\"T_34d6e_row0_col1\" class=\"data row0 col1\" >198</td>\n",
              "      <td id=\"T_34d6e_row0_col2\" class=\"data row0 col2\" >0</td>\n",
              "      <td id=\"T_34d6e_row0_col3\" class=\"data row0 col3\" >147</td>\n",
              "    </tr>\n",
              "    <tr>\n",
              "      <th id=\"T_34d6e_level0_row1\" class=\"row_heading level0 row1\" >male</th>\n",
              "      <td id=\"T_34d6e_row1_col0\" class=\"data row1 col0\" >46</td>\n",
              "      <td id=\"T_34d6e_row1_col1\" class=\"data row1 col1\" >0</td>\n",
              "      <td id=\"T_34d6e_row1_col2\" class=\"data row1 col2\" >590</td>\n",
              "      <td id=\"T_34d6e_row1_col3\" class=\"data row1 col3\" >0</td>\n",
              "    </tr>\n",
              "  </tbody>\n",
              "</table>\n"
            ]
          },
          "metadata": {},
          "execution_count": 108
        }
      ]
    },
    {
      "cell_type": "markdown",
      "source": [
        "Вычислите долю строк со значением <code>Master</code> относительно числа всех мужчин"
      ],
      "metadata": {
        "id": "qh-KpfttKxYD"
      }
    },
    {
      "cell_type": "code",
      "source": [
        "print('Master_rate', len(df_droped[df_droped['honorific']=='Master'])/len(df_droped[df_droped['sex']=='male']))"
      ],
      "metadata": {
        "colab": {
          "base_uri": "https://localhost:8080/"
        },
        "id": "2g2fHrAGK_CA",
        "outputId": "6d584e7d-8aa3-4210-fa5c-24c06520af8f"
      },
      "execution_count": null,
      "outputs": [
        {
          "output_type": "stream",
          "name": "stdout",
          "text": [
            "Master_rate 0.07232704402515723\n"
          ]
        }
      ]
    },
    {
      "cell_type": "markdown",
      "source": [
        "Вычислите средний возраст категории, указанной в вашем индивидуальном задании"
      ],
      "metadata": {
        "id": "XD7hs0k7L77K"
      }
    },
    {
      "cell_type": "code",
      "source": [
        "dict(df_droped.groupby('honorific')['age'].mean())"
      ],
      "metadata": {
        "colab": {
          "base_uri": "https://localhost:8080/"
        },
        "id": "stKBPTCQMGlf",
        "outputId": "7360471f-b32d-4ab1-ae2c-d82e6408f0f5"
      },
      "execution_count": null,
      "outputs": [
        {
          "output_type": "execute_result",
          "data": {
            "text/plain": [
              "{'Master': 5.128205128205129,\n",
              " 'Miss': 22.005765408805033,\n",
              " 'Mr': 32.90043763676149,\n",
              " 'Mrs': 36.98425196850393}"
            ]
          },
          "metadata": {},
          "execution_count": 110
        }
      ]
    },
    {
      "cell_type": "markdown",
      "source": [
        "Заполните пропуски в колонке <code>age</code> средним, соответствующим среднему категории <code>honorific</code>.\n",
        "\n",
        "Избавьтесь от нечисловых признаков. Далее аналогично: разделение, обучение, оценка."
      ],
      "metadata": {
        "id": "cQ4Z0tKNLk_B"
      }
    },
    {
      "cell_type": "code",
      "source": [
        "df_droped.loc[(df_droped['age'].isnull()) & (df_droped['honorific'] == 'Master'), 'age'] = dict(df_droped.groupby('honorific')['age'].mean())['Master']\n",
        "df_droped.loc[(df_droped['age'].isnull()) & (df_droped['honorific'] == 'Miss'), 'age'] = dict(df_droped.groupby('honorific')['age'].mean())['Miss']\n",
        "df_droped.loc[(df_droped['age'].isnull()) & (df_droped['honorific'] == 'Mr'), 'age'] = dict(df_droped.groupby('honorific')['age'].mean())['Mr']\n",
        "df_droped.loc[(df_droped['age'].isnull()) & (df_droped['honorific'] == 'Mrs'), 'age'] = dict(df_droped.groupby('honorific')['age'].mean())['Mrs']\n",
        "print(df_droped.isnull().sum())"
      ],
      "metadata": {
        "colab": {
          "base_uri": "https://localhost:8080/"
        },
        "id": "B5c_i_6HN3aA",
        "outputId": "83e7e459-a569-4e73-c995-daa670863b52"
      },
      "execution_count": null,
      "outputs": [
        {
          "output_type": "stream",
          "name": "stdout",
          "text": [
            "pclass       0\n",
            "survived     0\n",
            "name         0\n",
            "sex          0\n",
            "age          0\n",
            "fare         0\n",
            "embarked     0\n",
            "fam_size     0\n",
            "honorific    0\n",
            "dtype: int64\n"
          ]
        }
      ]
    },
    {
      "cell_type": "code",
      "source": [
        "df_imputed_by_honorific = df_droped.drop(columns=cat_features+['honorific'])\n",
        "score, report, y_pred = build_model(df_imputed_by_honorific)\n",
        "print('f1_score_imputed_by_honorific', score)"
      ],
      "metadata": {
        "colab": {
          "base_uri": "https://localhost:8080/"
        },
        "id": "IQClma7LOyF_",
        "outputId": "3b679e89-e8b6-4677-9cfd-7898a1c1d7bd"
      },
      "execution_count": null,
      "outputs": [
        {
          "output_type": "stream",
          "name": "stdout",
          "text": [
            "f1_score_imputed_by_honorific 0.4745762711864407\n"
          ]
        }
      ]
    },
    {
      "cell_type": "markdown",
      "source": [
        "# Модель с использование категориальных признаков"
      ],
      "metadata": {
        "id": "YGCBn1fiSbjG"
      }
    },
    {
      "cell_type": "markdown",
      "source": [
        "В исходном наборе данных заполните пропуски колонки <code>age</code> значениями на основе обращений (как в предыдущем пункте).\n",
        "\n",
        "Не используйте признаки <code>name</code> и <code>honorific</code>. Они свою функцию выполнили.\n",
        "\n",
        "Произведите <code>one-hot</code> кодировние нечисловых признаков, например, с помощью <code>pd.get_dummies(drop_first=True)</code>. Далее по знакомой схеме: разделение, обучение, оценка.\n",
        "\n",
        "Вычислите <code>f1_score</code> модели на тестовых данных"
      ],
      "metadata": {
        "id": "BlILajPNTMgL"
      }
    },
    {
      "cell_type": "code",
      "source": [
        "df_droped_one_hot = df_droped.drop(columns=['name', 'honorific'])\n",
        "df_droped_one_hot = pd.get_dummies(df_droped_one_hot, drop_first=True)\n",
        "score, report, y_pred = build_model(df_droped_one_hot)\n",
        "print('f1_score_df_droped_one_hot', score)"
      ],
      "metadata": {
        "id": "AiRm3GIdUsVt",
        "colab": {
          "base_uri": "https://localhost:8080/"
        },
        "outputId": "29d548ed-533e-4051-8530-c07e8b478adc"
      },
      "execution_count": null,
      "outputs": [
        {
          "output_type": "stream",
          "name": "stdout",
          "text": [
            "f1_score_df_droped_one_hot 0.7567567567567568\n"
          ]
        }
      ]
    },
    {
      "cell_type": "code",
      "source": [
        "print(report)"
      ],
      "metadata": {
        "colab": {
          "base_uri": "https://localhost:8080/"
        },
        "id": "kc3SN_nOFhWs",
        "outputId": "5832e562-bb33-494d-9c66-dc8d5a574beb"
      },
      "execution_count": null,
      "outputs": [
        {
          "output_type": "stream",
          "name": "stdout",
          "text": [
            "              precision    recall  f1-score   support\n",
            "\n",
            "           0      0.847     0.861     0.854       122\n",
            "           1      0.767     0.747     0.757        75\n",
            "\n",
            "    accuracy                          0.817       197\n",
            "   macro avg      0.807     0.804     0.805       197\n",
            "weighted avg      0.816     0.817     0.817       197\n",
            "\n"
          ]
        }
      ]
    },
    {
      "cell_type": "code",
      "source": [
        "df_droped_one_hot.head()"
      ],
      "metadata": {
        "colab": {
          "base_uri": "https://localhost:8080/",
          "height": 206
        },
        "id": "qxKeM_GDFyKi",
        "outputId": "ff58e505-7603-494e-e86d-bd4f5f289009"
      },
      "execution_count": null,
      "outputs": [
        {
          "output_type": "execute_result",
          "data": {
            "text/plain": [
              "   pclass  survived        age    fare  fam_size  sex_male  embarked_Q  \\\n",
              "0       3         1  22.005765  7.7333         0     False        True   \n",
              "1       3         1  22.005765  7.7500         0     False        True   \n",
              "2       3         1  38.000000  7.2292         0     False       False   \n",
              "3       3         0  22.000000  7.8958         0      True       False   \n",
              "4       3         0  16.000000  9.5000         0      True       False   \n",
              "\n",
              "   embarked_S  \n",
              "0       False  \n",
              "1       False  \n",
              "2       False  \n",
              "3        True  \n",
              "4        True  "
            ],
            "text/html": [
              "\n",
              "  <div id=\"df-37c4d9ed-8ccf-40e7-8c98-82f7fe10f4e7\" class=\"colab-df-container\">\n",
              "    <div>\n",
              "<style scoped>\n",
              "    .dataframe tbody tr th:only-of-type {\n",
              "        vertical-align: middle;\n",
              "    }\n",
              "\n",
              "    .dataframe tbody tr th {\n",
              "        vertical-align: top;\n",
              "    }\n",
              "\n",
              "    .dataframe thead th {\n",
              "        text-align: right;\n",
              "    }\n",
              "</style>\n",
              "<table border=\"1\" class=\"dataframe\">\n",
              "  <thead>\n",
              "    <tr style=\"text-align: right;\">\n",
              "      <th></th>\n",
              "      <th>pclass</th>\n",
              "      <th>survived</th>\n",
              "      <th>age</th>\n",
              "      <th>fare</th>\n",
              "      <th>fam_size</th>\n",
              "      <th>sex_male</th>\n",
              "      <th>embarked_Q</th>\n",
              "      <th>embarked_S</th>\n",
              "    </tr>\n",
              "  </thead>\n",
              "  <tbody>\n",
              "    <tr>\n",
              "      <th>0</th>\n",
              "      <td>3</td>\n",
              "      <td>1</td>\n",
              "      <td>22.005765</td>\n",
              "      <td>7.7333</td>\n",
              "      <td>0</td>\n",
              "      <td>False</td>\n",
              "      <td>True</td>\n",
              "      <td>False</td>\n",
              "    </tr>\n",
              "    <tr>\n",
              "      <th>1</th>\n",
              "      <td>3</td>\n",
              "      <td>1</td>\n",
              "      <td>22.005765</td>\n",
              "      <td>7.7500</td>\n",
              "      <td>0</td>\n",
              "      <td>False</td>\n",
              "      <td>True</td>\n",
              "      <td>False</td>\n",
              "    </tr>\n",
              "    <tr>\n",
              "      <th>2</th>\n",
              "      <td>3</td>\n",
              "      <td>1</td>\n",
              "      <td>38.000000</td>\n",
              "      <td>7.2292</td>\n",
              "      <td>0</td>\n",
              "      <td>False</td>\n",
              "      <td>False</td>\n",
              "      <td>False</td>\n",
              "    </tr>\n",
              "    <tr>\n",
              "      <th>3</th>\n",
              "      <td>3</td>\n",
              "      <td>0</td>\n",
              "      <td>22.000000</td>\n",
              "      <td>7.8958</td>\n",
              "      <td>0</td>\n",
              "      <td>True</td>\n",
              "      <td>False</td>\n",
              "      <td>True</td>\n",
              "    </tr>\n",
              "    <tr>\n",
              "      <th>4</th>\n",
              "      <td>3</td>\n",
              "      <td>0</td>\n",
              "      <td>16.000000</td>\n",
              "      <td>9.5000</td>\n",
              "      <td>0</td>\n",
              "      <td>True</td>\n",
              "      <td>False</td>\n",
              "      <td>True</td>\n",
              "    </tr>\n",
              "  </tbody>\n",
              "</table>\n",
              "</div>\n",
              "    <div class=\"colab-df-buttons\">\n",
              "\n",
              "  <div class=\"colab-df-container\">\n",
              "    <button class=\"colab-df-convert\" onclick=\"convertToInteractive('df-37c4d9ed-8ccf-40e7-8c98-82f7fe10f4e7')\"\n",
              "            title=\"Convert this dataframe to an interactive table.\"\n",
              "            style=\"display:none;\">\n",
              "\n",
              "  <svg xmlns=\"http://www.w3.org/2000/svg\" height=\"24px\" viewBox=\"0 -960 960 960\">\n",
              "    <path d=\"M120-120v-720h720v720H120Zm60-500h600v-160H180v160Zm220 220h160v-160H400v160Zm0 220h160v-160H400v160ZM180-400h160v-160H180v160Zm440 0h160v-160H620v160ZM180-180h160v-160H180v160Zm440 0h160v-160H620v160Z\"/>\n",
              "  </svg>\n",
              "    </button>\n",
              "\n",
              "  <style>\n",
              "    .colab-df-container {\n",
              "      display:flex;\n",
              "      gap: 12px;\n",
              "    }\n",
              "\n",
              "    .colab-df-convert {\n",
              "      background-color: #E8F0FE;\n",
              "      border: none;\n",
              "      border-radius: 50%;\n",
              "      cursor: pointer;\n",
              "      display: none;\n",
              "      fill: #1967D2;\n",
              "      height: 32px;\n",
              "      padding: 0 0 0 0;\n",
              "      width: 32px;\n",
              "    }\n",
              "\n",
              "    .colab-df-convert:hover {\n",
              "      background-color: #E2EBFA;\n",
              "      box-shadow: 0px 1px 2px rgba(60, 64, 67, 0.3), 0px 1px 3px 1px rgba(60, 64, 67, 0.15);\n",
              "      fill: #174EA6;\n",
              "    }\n",
              "\n",
              "    .colab-df-buttons div {\n",
              "      margin-bottom: 4px;\n",
              "    }\n",
              "\n",
              "    [theme=dark] .colab-df-convert {\n",
              "      background-color: #3B4455;\n",
              "      fill: #D2E3FC;\n",
              "    }\n",
              "\n",
              "    [theme=dark] .colab-df-convert:hover {\n",
              "      background-color: #434B5C;\n",
              "      box-shadow: 0px 1px 3px 1px rgba(0, 0, 0, 0.15);\n",
              "      filter: drop-shadow(0px 1px 2px rgba(0, 0, 0, 0.3));\n",
              "      fill: #FFFFFF;\n",
              "    }\n",
              "  </style>\n",
              "\n",
              "    <script>\n",
              "      const buttonEl =\n",
              "        document.querySelector('#df-37c4d9ed-8ccf-40e7-8c98-82f7fe10f4e7 button.colab-df-convert');\n",
              "      buttonEl.style.display =\n",
              "        google.colab.kernel.accessAllowed ? 'block' : 'none';\n",
              "\n",
              "      async function convertToInteractive(key) {\n",
              "        const element = document.querySelector('#df-37c4d9ed-8ccf-40e7-8c98-82f7fe10f4e7');\n",
              "        const dataTable =\n",
              "          await google.colab.kernel.invokeFunction('convertToInteractive',\n",
              "                                                    [key], {});\n",
              "        if (!dataTable) return;\n",
              "\n",
              "        const docLinkHtml = 'Like what you see? Visit the ' +\n",
              "          '<a target=\"_blank\" href=https://colab.research.google.com/notebooks/data_table.ipynb>data table notebook</a>'\n",
              "          + ' to learn more about interactive tables.';\n",
              "        element.innerHTML = '';\n",
              "        dataTable['output_type'] = 'display_data';\n",
              "        await google.colab.output.renderOutput(dataTable, element);\n",
              "        const docLink = document.createElement('div');\n",
              "        docLink.innerHTML = docLinkHtml;\n",
              "        element.appendChild(docLink);\n",
              "      }\n",
              "    </script>\n",
              "  </div>\n",
              "\n",
              "\n",
              "<div id=\"df-09b4f0cf-0284-4e51-8995-b2c31fc10e09\">\n",
              "  <button class=\"colab-df-quickchart\" onclick=\"quickchart('df-09b4f0cf-0284-4e51-8995-b2c31fc10e09')\"\n",
              "            title=\"Suggest charts\"\n",
              "            style=\"display:none;\">\n",
              "\n",
              "<svg xmlns=\"http://www.w3.org/2000/svg\" height=\"24px\"viewBox=\"0 0 24 24\"\n",
              "     width=\"24px\">\n",
              "    <g>\n",
              "        <path d=\"M19 3H5c-1.1 0-2 .9-2 2v14c0 1.1.9 2 2 2h14c1.1 0 2-.9 2-2V5c0-1.1-.9-2-2-2zM9 17H7v-7h2v7zm4 0h-2V7h2v10zm4 0h-2v-4h2v4z\"/>\n",
              "    </g>\n",
              "</svg>\n",
              "  </button>\n",
              "\n",
              "<style>\n",
              "  .colab-df-quickchart {\n",
              "      --bg-color: #E8F0FE;\n",
              "      --fill-color: #1967D2;\n",
              "      --hover-bg-color: #E2EBFA;\n",
              "      --hover-fill-color: #174EA6;\n",
              "      --disabled-fill-color: #AAA;\n",
              "      --disabled-bg-color: #DDD;\n",
              "  }\n",
              "\n",
              "  [theme=dark] .colab-df-quickchart {\n",
              "      --bg-color: #3B4455;\n",
              "      --fill-color: #D2E3FC;\n",
              "      --hover-bg-color: #434B5C;\n",
              "      --hover-fill-color: #FFFFFF;\n",
              "      --disabled-bg-color: #3B4455;\n",
              "      --disabled-fill-color: #666;\n",
              "  }\n",
              "\n",
              "  .colab-df-quickchart {\n",
              "    background-color: var(--bg-color);\n",
              "    border: none;\n",
              "    border-radius: 50%;\n",
              "    cursor: pointer;\n",
              "    display: none;\n",
              "    fill: var(--fill-color);\n",
              "    height: 32px;\n",
              "    padding: 0;\n",
              "    width: 32px;\n",
              "  }\n",
              "\n",
              "  .colab-df-quickchart:hover {\n",
              "    background-color: var(--hover-bg-color);\n",
              "    box-shadow: 0 1px 2px rgba(60, 64, 67, 0.3), 0 1px 3px 1px rgba(60, 64, 67, 0.15);\n",
              "    fill: var(--button-hover-fill-color);\n",
              "  }\n",
              "\n",
              "  .colab-df-quickchart-complete:disabled,\n",
              "  .colab-df-quickchart-complete:disabled:hover {\n",
              "    background-color: var(--disabled-bg-color);\n",
              "    fill: var(--disabled-fill-color);\n",
              "    box-shadow: none;\n",
              "  }\n",
              "\n",
              "  .colab-df-spinner {\n",
              "    border: 2px solid var(--fill-color);\n",
              "    border-color: transparent;\n",
              "    border-bottom-color: var(--fill-color);\n",
              "    animation:\n",
              "      spin 1s steps(1) infinite;\n",
              "  }\n",
              "\n",
              "  @keyframes spin {\n",
              "    0% {\n",
              "      border-color: transparent;\n",
              "      border-bottom-color: var(--fill-color);\n",
              "      border-left-color: var(--fill-color);\n",
              "    }\n",
              "    20% {\n",
              "      border-color: transparent;\n",
              "      border-left-color: var(--fill-color);\n",
              "      border-top-color: var(--fill-color);\n",
              "    }\n",
              "    30% {\n",
              "      border-color: transparent;\n",
              "      border-left-color: var(--fill-color);\n",
              "      border-top-color: var(--fill-color);\n",
              "      border-right-color: var(--fill-color);\n",
              "    }\n",
              "    40% {\n",
              "      border-color: transparent;\n",
              "      border-right-color: var(--fill-color);\n",
              "      border-top-color: var(--fill-color);\n",
              "    }\n",
              "    60% {\n",
              "      border-color: transparent;\n",
              "      border-right-color: var(--fill-color);\n",
              "    }\n",
              "    80% {\n",
              "      border-color: transparent;\n",
              "      border-right-color: var(--fill-color);\n",
              "      border-bottom-color: var(--fill-color);\n",
              "    }\n",
              "    90% {\n",
              "      border-color: transparent;\n",
              "      border-bottom-color: var(--fill-color);\n",
              "    }\n",
              "  }\n",
              "</style>\n",
              "\n",
              "  <script>\n",
              "    async function quickchart(key) {\n",
              "      const quickchartButtonEl =\n",
              "        document.querySelector('#' + key + ' button');\n",
              "      quickchartButtonEl.disabled = true;  // To prevent multiple clicks.\n",
              "      quickchartButtonEl.classList.add('colab-df-spinner');\n",
              "      try {\n",
              "        const charts = await google.colab.kernel.invokeFunction(\n",
              "            'suggestCharts', [key], {});\n",
              "      } catch (error) {\n",
              "        console.error('Error during call to suggestCharts:', error);\n",
              "      }\n",
              "      quickchartButtonEl.classList.remove('colab-df-spinner');\n",
              "      quickchartButtonEl.classList.add('colab-df-quickchart-complete');\n",
              "    }\n",
              "    (() => {\n",
              "      let quickchartButtonEl =\n",
              "        document.querySelector('#df-09b4f0cf-0284-4e51-8995-b2c31fc10e09 button');\n",
              "      quickchartButtonEl.style.display =\n",
              "        google.colab.kernel.accessAllowed ? 'block' : 'none';\n",
              "    })();\n",
              "  </script>\n",
              "</div>\n",
              "    </div>\n",
              "  </div>\n"
            ],
            "application/vnd.google.colaboratory.intrinsic+json": {
              "type": "dataframe",
              "variable_name": "df_droped_one_hot",
              "summary": "{\n  \"name\": \"df_droped_one_hot\",\n  \"rows\": 981,\n  \"fields\": [\n    {\n      \"column\": \"pclass\",\n      \"properties\": {\n        \"dtype\": \"number\",\n        \"std\": 0,\n        \"min\": 1,\n        \"max\": 3,\n        \"num_unique_values\": 3,\n        \"samples\": [\n          3,\n          1,\n          2\n        ],\n        \"semantic_type\": \"\",\n        \"description\": \"\"\n      }\n    },\n    {\n      \"column\": \"survived\",\n      \"properties\": {\n        \"dtype\": \"number\",\n        \"std\": 0,\n        \"min\": 0,\n        \"max\": 1,\n        \"num_unique_values\": 2,\n        \"samples\": [\n          0,\n          1\n        ],\n        \"semantic_type\": \"\",\n        \"description\": \"\"\n      }\n    },\n    {\n      \"column\": \"age\",\n      \"properties\": {\n        \"dtype\": \"number\",\n        \"std\": 13.27558787655562,\n        \"min\": 0.3333,\n        \"max\": 80.0,\n        \"num_unique_values\": 96,\n        \"samples\": [\n          70.5,\n          0.4167\n        ],\n        \"semantic_type\": \"\",\n        \"description\": \"\"\n      }\n    },\n    {\n      \"column\": \"fare\",\n      \"properties\": {\n        \"dtype\": \"number\",\n        \"std\": 49.30625839020259,\n        \"min\": 0.0,\n        \"max\": 512.3292,\n        \"num_unique_values\": 254,\n        \"samples\": [\n          9.325,\n          26.0\n        ],\n        \"semantic_type\": \"\",\n        \"description\": \"\"\n      }\n    },\n    {\n      \"column\": \"fam_size\",\n      \"properties\": {\n        \"dtype\": \"number\",\n        \"std\": 1,\n        \"min\": 0,\n        \"max\": 10,\n        \"num_unique_values\": 9,\n        \"samples\": [\n          7,\n          6\n        ],\n        \"semantic_type\": \"\",\n        \"description\": \"\"\n      }\n    },\n    {\n      \"column\": \"sex_male\",\n      \"properties\": {\n        \"dtype\": \"boolean\",\n        \"num_unique_values\": 2,\n        \"samples\": [\n          true,\n          false\n        ],\n        \"semantic_type\": \"\",\n        \"description\": \"\"\n      }\n    },\n    {\n      \"column\": \"embarked_Q\",\n      \"properties\": {\n        \"dtype\": \"boolean\",\n        \"num_unique_values\": 2,\n        \"samples\": [\n          false,\n          true\n        ],\n        \"semantic_type\": \"\",\n        \"description\": \"\"\n      }\n    },\n    {\n      \"column\": \"embarked_S\",\n      \"properties\": {\n        \"dtype\": \"boolean\",\n        \"num_unique_values\": 2,\n        \"samples\": [\n          true,\n          false\n        ],\n        \"semantic_type\": \"\",\n        \"description\": \"\"\n      }\n    }\n  ]\n}"
            }
          },
          "metadata": {},
          "execution_count": 115
        }
      ]
    },
    {
      "cell_type": "markdown",
      "source": [
        "**Попробуем теперь протестировать наши данные сделав стандартизацию. Поэксперементируем.**"
      ],
      "metadata": {
        "id": "df-1l-59lIzS"
      }
    },
    {
      "cell_type": "markdown",
      "source": [
        "**Стандартизация с использованием MinMaxScaler:**\n",
        "\n",
        "\n",
        "scaler = MinMaxScaler(): Создаем экземпляр MinMaxScaler.\n",
        "\n",
        "df_droped_one_hot_scaled = pd.DataFrame(scaler.fit_transform(df_droped_one_hot), columns=df_droped_one_hot.columns): Применяем стандартизацию и создаем новый датафрейм с теми же столбцами.\n",
        "\n",
        "Построение модели и вычисление метрик после стандартизации:\n",
        "\n",
        "score_scaled, report_scaled = build_model(df_droped_one_hot_scaled): Строим модель на стандартизированных данных и получаем метрики.\n",
        "\n",
        "print('f1_score_df_droped_one_hot_scaled', score_scaled): Выводим F1-score после стандартизации."
      ],
      "metadata": {
        "id": "qCbWjSQbHaue"
      }
    },
    {
      "cell_type": "code",
      "source": [
        "import pandas as pd\n",
        "from sklearn.preprocessing import MinMaxScaler\n",
        "\n",
        "\n",
        "# Стандартизация с использованием MinMaxScaler\n",
        "scaler = MinMaxScaler()\n",
        "df_droped_one_hot_scaled = pd.DataFrame(scaler.fit_transform(df_droped_one_hot), columns=df_droped_one_hot.columns)\n",
        "\n",
        "# Построение модели и вычисление метрик после стандартизации\n",
        "score_scaled, report_scaled, y_pred = build_model(df_droped_one_hot_scaled)\n",
        "print('f1_score_df_droped_one_hot_scaled', score_scaled)"
      ],
      "metadata": {
        "colab": {
          "base_uri": "https://localhost:8080/"
        },
        "id": "-Hp46T0UGyUE",
        "outputId": "77480125-e3b1-48a0-9e2c-41d287a7b004"
      },
      "execution_count": null,
      "outputs": [
        {
          "output_type": "stream",
          "name": "stdout",
          "text": [
            "f1_score_df_droped_one_hot_scaled 0.7417218543046358\n"
          ]
        }
      ]
    },
    {
      "cell_type": "markdown",
      "source": [
        " ПОЧЕМУ СНИЗИЛАСЬ ОШИБКА !"
      ],
      "metadata": {
        "id": "lxBjJGVjIXSa"
      }
    },
    {
      "cell_type": "markdown",
      "source": [
        "Возможные причины уменьшения ошибки после стандартизации:\n",
        "Устранение влияния масштаба:\n",
        "\n",
        "Стандартизация (например, с использованием MinMaxScaler) приводит к тому, что все признаки имеют одинаковый масштаб (обычно от 0 до 1). Это может помочь моделям, чувствительным к масштабу признаков (например, линейные модели, SVM, нейронные сети), лучше обучаться и давать более точные предсказания.\n",
        "\n",
        "Улучшение сходимости алгоритмов:\n",
        "\n",
        "Для алгоритмов, использующих градиентный спуск (например, линейная регрессия, логистическая регрессия), стандартизация может улучшить сходимость, что приводит к более быстрому и стабильному обучению.\n",
        "\n",
        "Уменьшение влияния выбросов:\n",
        "\n",
        "Стандартизация может уменьшить влияние выбросов, так как она сжимает значения в определенном диапазоне. Это может привести к более устойчивым результатам.\n",
        "\n",
        "Возможные причины увеличения ошибки после стандартизации:\n",
        "Потеря информации:\n",
        "\n",
        "Стандартизация может привести к потере некоторой информации, особенно если данные имеют сильно нелинейные зависимости. Например, если в данных есть несколько выбросов, стандартизация может сжать значения, что может негативно сказаться на производительности модели.\n",
        "\n",
        "Неподходящий алгоритм:\n",
        "\n",
        "Не все модели чувствительны к масштабу признаков. Например, деревья решений и случайный лес не зависят от масштаба признаков, поэтому стандартизация может не привести к улучшению производительности.\n",
        "\n",
        "Неправильная настройка параметров:\n",
        "\n",
        "Если параметры стандартизации (например, диапазон для MinMaxScaler) настроены неправильно, это может привести к ухудшению производительности модели.\n",
        "\n",
        "Как определить причину:\n",
        "Анализ данных:\n",
        "\n",
        "Проанализируем данные до и после стандартизации. Посмотрите на распределения признаков и наличие выбросов.\n",
        "\n",
        "Сравнение моделей:\n",
        "\n",
        "Попробуем обучить несколько моделей (например, линейная регрессия, дерево решений, случайный лес) до и после стандартизации. Сравните их производительность.\n",
        "\n",
        "Изменение параметров стандартизации:\n",
        "\n",
        "Попробуем изменить параметры стандартизации (например, использовать другой диапазон для MinMaxScaler) и посмотреть, как это повлияет на результаты.\n",
        "\n",
        "Использование других методов нормализации:\n",
        "\n",
        "Попробуем другие методы нормализации, такие как StandardScaler (стандартизация к среднему 0 и дисперсии 1) или RobustScaler (менее чувствительный к выбросам)."
      ],
      "metadata": {
        "id": "ol-pkqAmJxgN"
      }
    },
    {
      "cell_type": "markdown",
      "source": [
        "ВЕСЬ КОД ПРЕДЫДУЩИЙ В ОДНОМ :"
      ],
      "metadata": {
        "id": "CDVJid2uMw2O"
      }
    },
    {
      "cell_type": "code",
      "source": [
        "import pandas as pd\n",
        "from sklearn.preprocessing import MinMaxScaler\n",
        "from sklearn.model_selection import train_test_split\n",
        "from sklearn.linear_model import LogisticRegression\n",
        "from sklearn.metrics import f1_score, classification_report\n",
        "\n",
        "# Устанавливаем random_state\n",
        "random_state = 13\n",
        "\n",
        "# Функция для построения модели и вычисления F1-score\n",
        "def build_model(df):\n",
        "    X, y = df.drop('survived', axis=1), df['survived']\n",
        "    X_train, X_test, y_train, y_test = train_test_split(X, y, test_size=0.2, random_state=random_state, stratify=y)\n",
        "    lr = LogisticRegression(random_state=random_state, max_iter=1000).fit(X_train, y_train)\n",
        "    y_pred = lr.predict(X_test)\n",
        "    f_1_score = f1_score(y_test, y_pred)\n",
        "    report = classification_report(y_test, y_pred, digits=3)\n",
        "    return f_1_score, report\n",
        "\n",
        "# One-hot кодирование\n",
        "df_droped_one_hot = df_droped.drop(columns=['name', 'honorific'])\n",
        "df_droped_one_hot = pd.get_dummies(df_droped_one_hot, drop_first=True)\n",
        "\n",
        "# Строим модель и вычисляем метрики после one-hot кодирования\n",
        "score_one_hot, report_one_hot = build_model(df_droped_one_hot)\n",
        "print('f1_score_df_droped_one_hot', score_one_hot)\n",
        "\n",
        "# Применяем MinMaxScaler к данным после one-hot кодирования\n",
        "scaler = MinMaxScaler()\n",
        "df_droped_one_hot_scaled = pd.DataFrame(scaler.fit_transform(df_droped_one_hot.drop('survived', axis=1)), columns=df_droped_one_hot.drop('survived', axis=1).columns)\n",
        "df_droped_one_hot_scaled['survived'] = df_droped_one_hot['survived']\n",
        "\n",
        "# Строим модель и вычисляем метрики после стандартизации\n",
        "score_scaled, report_scaled = build_model(df_droped_one_hot_scaled)\n",
        "print('f1_score_df_droped_one_hot_scaled', score_scaled)"
      ],
      "metadata": {
        "colab": {
          "base_uri": "https://localhost:8080/"
        },
        "id": "TEB-j9apLGxA",
        "outputId": "49a971b6-12fb-4adf-8ed4-bab313b90ba9"
      },
      "execution_count": null,
      "outputs": [
        {
          "output_type": "stream",
          "name": "stdout",
          "text": [
            "f1_score_df_droped_one_hot 0.7567567567567568\n",
            "f1_score_df_droped_one_hot_scaled 0.7417218543046358\n"
          ]
        }
      ]
    },
    {
      "cell_type": "markdown",
      "source": [
        "ПОСМОТРИМ НА ДРУГИЕ МЕТОДЫ И СРАВНИМ"
      ],
      "metadata": {
        "id": "sJ9TJgyXM_zs"
      }
    },
    {
      "cell_type": "code",
      "source": [
        "import pandas as pd\n",
        "from sklearn.preprocessing import MinMaxScaler, StandardScaler, RobustScaler\n",
        "from sklearn.model_selection import train_test_split\n",
        "from sklearn.linear_model import LogisticRegression\n",
        "from sklearn.metrics import f1_score, classification_report\n",
        "\n",
        "# Устанавливаем random_state\n",
        "random_state = 13\n",
        "\n",
        "# Функция для построения модели и вычисления F1-score\n",
        "def build_model(df):\n",
        "    X, y = df.drop('survived', axis=1), df['survived']\n",
        "    X_train, X_test, y_train, y_test = train_test_split(X, y, test_size=0.2, random_state=random_state, stratify=y)\n",
        "    lr = LogisticRegression(random_state=random_state, max_iter=1000).fit(X_train, y_train)\n",
        "    y_pred = lr.predict(X_test)\n",
        "    f_1_score = f1_score(y_test, y_pred)\n",
        "    report = classification_report(y_test, y_pred, digits=3)\n",
        "    return f_1_score, report\n",
        "\n",
        "# One-hot кодирование\n",
        "df_droped_one_hot = df_droped.drop(columns=['name', 'honorific'])\n",
        "df_droped_one_hot = pd.get_dummies(df_droped_one_hot, drop_first=True)\n",
        "\n",
        "# Строим модель и вычисляем метрики после one-hot кодирования\n",
        "score_one_hot, report_one_hot = build_model(df_droped_one_hot)\n",
        "print('f1_score_df_droped_one_hot', score_one_hot)\n",
        "\n",
        "# Применяем MinMaxScaler к данным после one-hot кодирования\n",
        "scaler_minmax = MinMaxScaler()\n",
        "df_droped_one_hot_minmax = pd.DataFrame(scaler_minmax.fit_transform(df_droped_one_hot.drop('survived', axis=1)), columns=df_droped_one_hot.drop('survived', axis=1).columns)\n",
        "df_droped_one_hot_minmax['survived'] = df_droped_one_hot['survived']\n",
        "\n",
        "# Строим модель и вычисляем метрики после MinMaxScaler\n",
        "score_minmax, report_minmax = build_model(df_droped_one_hot_minmax)\n",
        "print('f1_score_df_droped_one_hot_minmax', score_minmax)\n",
        "\n",
        "# Применяем StandardScaler к данным после one-hot кодирования\n",
        "scaler_standard = StandardScaler()\n",
        "df_droped_one_hot_standard = pd.DataFrame(scaler_standard.fit_transform(df_droped_one_hot.drop('survived', axis=1)), columns=df_droped_one_hot.drop('survived', axis=1).columns)\n",
        "df_droped_one_hot_standard['survived'] = df_droped_one_hot['survived']\n",
        "\n",
        "# Строим модель и вычисляем метрики после StandardScaler\n",
        "score_standard, report_standard = build_model(df_droped_one_hot_standard)\n",
        "print('f1_score_df_droped_one_hot_standard', score_standard)\n",
        "\n",
        "# Применяем RobustScaler к данным после one-hot кодирования\n",
        "scaler_robust = RobustScaler()\n",
        "df_droped_one_hot_robust = pd.DataFrame(scaler_robust.fit_transform(df_droped_one_hot.drop('survived', axis=1)), columns=df_droped_one_hot.drop('survived', axis=1).columns)\n",
        "df_droped_one_hot_robust['survived'] = df_droped_one_hot['survived']\n",
        "\n",
        "# Строим модель и вычисляем метрики после RobustScaler\n",
        "score_robust, report_robust = build_model(df_droped_one_hot_robust)\n",
        "print('f1_score_df_droped_one_hot_robust', score_robust)"
      ],
      "metadata": {
        "colab": {
          "base_uri": "https://localhost:8080/"
        },
        "id": "5MnbSWf4Mg6m",
        "outputId": "0714acc6-0fe1-4438-e8be-ec664d5e3960"
      },
      "execution_count": null,
      "outputs": [
        {
          "output_type": "stream",
          "name": "stdout",
          "text": [
            "f1_score_df_droped_one_hot 0.7567567567567568\n",
            "f1_score_df_droped_one_hot_minmax 0.7417218543046358\n",
            "f1_score_df_droped_one_hot_standard 0.7516778523489933\n",
            "f1_score_df_droped_one_hot_robust 0.7567567567567568\n"
          ]
        }
      ]
    },
    {
      "cell_type": "code",
      "source": [
        "import pandas as pd\n",
        "from sklearn.preprocessing import MinMaxScaler, StandardScaler, RobustScaler\n",
        "from sklearn.model_selection import train_test_split\n",
        "from sklearn.linear_model import LogisticRegression\n",
        "from sklearn.metrics import f1_score, classification_report\n",
        "\n",
        "# Устанавливаем random_state\n",
        "random_state = 13\n",
        "\n",
        "# Функция для построения модели и вычисления F1-score\n",
        "def build_model(df):\n",
        "    X, y = df.drop('survived', axis=1), df['survived']\n",
        "    X_train, X_test, y_train, y_test = train_test_split(X, y, test_size=0.2, random_state=random_state, stratify=y)\n",
        "    lr = LogisticRegression(random_state=random_state, max_iter=1000).fit(X_train, y_train)\n",
        "    y_pred = lr.predict(X_test)\n",
        "    f_1_score = f1_score(y_test, y_pred)\n",
        "    report = classification_report(y_test, y_pred, digits=3)\n",
        "    return f_1_score, report, y_pred\n",
        "\n",
        "# One-hot кодирование\n",
        "df_droped_one_hot = df_droped.drop(columns=['name', 'honorific'])\n",
        "df_droped_one_hot = pd.get_dummies(df_droped_one_hot, drop_first=True)\n",
        "\n",
        "# Строим модель и вычисляем метрики после one-hot кодирования\n",
        "score_one_hot, report_one_hot, y_pred_one_hot = build_model(df_droped_one_hot)\n",
        "print('f1_score_df_droped_one_hot', score_one_hot)\n",
        "\n",
        "# Применяем MinMaxScaler к данным после one-hot кодирования\n",
        "scaler_minmax = MinMaxScaler()\n",
        "df_droped_one_hot_minmax = pd.DataFrame(scaler_minmax.fit_transform(df_droped_one_hot.drop('survived', axis=1)), columns=df_droped_one_hot.drop('survived', axis=1).columns)\n",
        "df_droped_one_hot_minmax['survived'] = df_droped_one_hot['survived']\n",
        "\n",
        "# Строим модель и вычисляем метрики после MinMaxScaler\n",
        "score_minmax, report_minmax, y_pred_minmax = build_model(df_droped_one_hot_minmax)\n",
        "print('f1_score_df_droped_one_hot_minmax', score_minmax)\n",
        "\n",
        "# Применяем StandardScaler к данным после one-hot кодирования\n",
        "scaler_standard = StandardScaler()\n",
        "df_droped_one_hot_standard = pd.DataFrame(scaler_standard.fit_transform(df_droped_one_hot.drop('survived', axis=1)), columns=df_droped_one_hot.drop('survived', axis=1).columns)\n",
        "df_droped_one_hot_standard['survived'] = df_droped_one_hot['survived']\n",
        "\n",
        "# Строим модель и вычисляем метрики после StandardScaler\n",
        "score_standard, report_standard, y_pred_standard = build_model(df_droped_one_hot_standard)\n",
        "print('f1_score_df_droped_one_hot_standard', score_standard)\n",
        "\n",
        "# Применяем RobustScaler к данным после one-hot кодирования\n",
        "scaler_robust = RobustScaler()\n",
        "df_droped_one_hot_robust = pd.DataFrame(scaler_robust.fit_transform(df_droped_one_hot.drop('survived', axis=1)), columns=df_droped_one_hot.drop('survived', axis=1).columns)\n",
        "df_droped_one_hot_robust['survived'] = df_droped_one_hot['survived']\n",
        "\n",
        "# Строим модель и вычисляем метрики после RobustScaler\n",
        "score_robust, report_robust, y_pred_robust = build_model(df_droped_one_hot_robust)\n",
        "print('f1_score_df_droped_one_hot_robust', score_robust)\n",
        "\n",
        "# Выводим предсказанные значения для каждого метода нормализации\n",
        "print(\"Predictions after one-hot encoding:\", y_pred_one_hot)\n",
        "print(\"Predictions after MinMaxScaler:\", y_pred_minmax)\n",
        "print(\"Predictions after StandardScaler:\", y_pred_standard)\n",
        "print(\"Predictions after RobustScaler:\", y_pred_robust)"
      ],
      "metadata": {
        "colab": {
          "base_uri": "https://localhost:8080/"
        },
        "id": "pmP_6unKgsbm",
        "outputId": "761158e6-8caa-490e-d199-d1477166959d"
      },
      "execution_count": null,
      "outputs": [
        {
          "output_type": "stream",
          "name": "stdout",
          "text": [
            "f1_score_df_droped_one_hot 0.7567567567567568\n",
            "f1_score_df_droped_one_hot_minmax 0.7417218543046358\n",
            "f1_score_df_droped_one_hot_standard 0.7516778523489933\n",
            "f1_score_df_droped_one_hot_robust 0.7567567567567568\n",
            "Predictions after one-hot encoding: [1 1 0 0 0 1 1 0 0 0 0 0 1 1 1 0 0 1 0 1 1 1 0 0 1 0 1 0 0 0 0 0 0 0 1 1 0\n",
            " 1 0 0 0 0 0 1 1 1 0 1 1 0 1 0 1 0 0 0 1 0 0 1 1 1 1 0 0 0 1 1 0 0 0 0 1 0\n",
            " 1 0 1 0 0 0 0 1 0 0 0 0 0 0 0 1 0 0 0 0 0 1 0 0 0 1 1 1 1 0 0 1 0 0 0 1 1\n",
            " 0 0 0 0 0 1 1 0 0 0 0 0 0 0 0 1 1 0 1 1 1 0 1 0 0 0 0 1 1 1 0 1 0 1 0 1 1\n",
            " 1 0 0 0 0 1 1 0 1 0 1 1 0 0 0 0 0 1 1 0 0 1 0 1 0 0 0 0 0 0 1 1 0 0 0 0 1\n",
            " 0 0 0 0 0 0 1 0 1 0 0 0]\n",
            "Predictions after MinMaxScaler: [1 1 0 0 0 1 1 0 0 0 0 0 1 1 1 0 0 1 0 1 1 1 0 0 1 0 1 0 0 0 0 0 0 0 1 1 0\n",
            " 1 0 0 0 0 0 1 1 1 0 1 1 0 1 0 1 0 0 0 1 0 0 0 1 1 1 1 0 0 1 1 0 0 1 0 1 0\n",
            " 1 0 1 0 0 0 0 1 0 1 0 0 0 0 0 1 0 0 0 0 0 1 0 0 0 1 1 1 1 0 0 1 0 0 0 1 1\n",
            " 0 0 0 0 0 1 1 0 0 0 0 0 0 0 1 1 1 0 1 1 1 0 1 0 0 0 0 1 1 1 0 1 0 1 0 1 1\n",
            " 1 0 0 0 0 1 1 0 1 0 1 1 0 0 0 0 0 1 1 0 0 1 0 1 0 0 0 0 0 0 1 1 0 0 0 0 1\n",
            " 0 0 0 0 0 0 1 0 1 0 0 0]\n",
            "Predictions after StandardScaler: [1 1 0 0 0 1 1 0 0 0 0 0 1 1 1 0 0 1 0 1 1 1 0 0 1 0 1 0 0 0 0 0 0 0 1 1 0\n",
            " 1 0 0 0 0 0 1 1 1 0 1 1 0 1 0 1 0 0 0 1 0 0 1 1 1 1 0 0 0 1 1 0 0 0 0 1 0\n",
            " 1 0 1 0 0 0 0 1 0 0 0 0 0 0 0 1 0 0 0 0 0 1 0 0 0 1 1 1 1 0 0 1 0 0 0 1 1\n",
            " 0 0 0 0 0 1 1 0 0 0 0 0 0 0 1 1 1 0 1 1 1 0 1 0 0 0 0 1 1 1 0 1 0 1 0 1 1\n",
            " 1 0 0 0 0 1 1 0 1 0 1 1 0 0 0 0 0 1 1 0 0 1 0 1 0 0 0 0 0 0 1 1 0 0 0 0 1\n",
            " 0 0 0 0 0 0 1 0 1 0 0 0]\n",
            "Predictions after RobustScaler: [1 1 0 0 0 1 1 0 0 0 0 0 1 1 1 0 0 1 0 1 1 1 0 0 1 0 1 0 0 0 0 0 0 0 1 1 0\n",
            " 1 0 0 0 0 0 1 1 1 0 1 1 0 1 0 1 0 0 0 1 0 0 1 1 1 1 0 0 0 1 1 0 0 0 0 1 0\n",
            " 1 0 1 0 0 0 0 1 0 0 0 0 0 0 0 1 0 0 0 0 0 1 0 0 0 1 1 1 1 0 0 1 0 0 0 1 1\n",
            " 0 0 0 0 0 1 1 0 0 0 0 0 0 0 0 1 1 0 1 1 1 0 1 0 0 0 0 1 1 1 0 1 0 1 0 1 1\n",
            " 1 0 0 0 0 1 1 0 1 0 1 1 0 0 0 0 0 1 1 0 0 1 0 1 0 0 0 0 0 0 1 1 0 0 0 0 1\n",
            " 0 0 0 0 0 0 1 0 1 0 0 0]\n"
          ]
        }
      ]
    },
    {
      "cell_type": "code",
      "source": [
        "print(\"Predictions after one-hot encoding:\", y_pred_one_hot.mean())\n",
        "print(\"Predictions after MinMaxScaler:\", y_pred_minmax.mean())             # лучше всех определил предикт, так как выше видно сколько 0 и 1 у нас\n",
        "print(\"Predictions after StandardScaler:\", y_pred_standard.mean())\n",
        "print(\"Predictions after RobustScaler:\", y_pred_robust.mean())"
      ],
      "metadata": {
        "colab": {
          "base_uri": "https://localhost:8080/"
        },
        "id": "AfX3SXjojUp-",
        "outputId": "b505ebdd-bf71-47a5-e1c0-028273f1ecf0"
      },
      "execution_count": null,
      "outputs": [
        {
          "output_type": "stream",
          "name": "stdout",
          "text": [
            "Predictions after one-hot encoding: 0.37055837563451777\n",
            "Predictions after MinMaxScaler: 0.38578680203045684\n",
            "Predictions after StandardScaler: 0.3756345177664975\n",
            "Predictions after RobustScaler: 0.37055837563451777\n"
          ]
        }
      ]
    }
  ]
}